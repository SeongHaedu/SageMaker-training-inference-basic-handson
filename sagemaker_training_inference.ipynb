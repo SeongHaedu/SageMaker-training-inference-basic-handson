{
 "cells": [
  {
   "cell_type": "markdown",
   "id": "acac2e8e",
   "metadata": {},
   "source": [
    "# タイトル: SageMaker Training で最大級に高価な足し算と引き算を行って、Inference で仮想モデルをデプロイする🐱"
   ]
  },
  {
   "cell_type": "markdown",
   "id": "3dfbe6b5-7c3e-464a-b7f9-60ba6440bf57",
   "metadata": {},
   "source": [
    "## 本ハンズオンのお品書き\n",
    "- 【前菜】SageMaker Training と Inference の全体像\n",
    "- 【肉 1】SageMaker Training - 座学編\n",
    "- 【肉 2】SageMaker Training - ハンズオン編\n",
    "- 【魚 1】SageMaker Inference - 座学編\n",
    "- 【魚 2】SageMaker Inference - ハンズオン編\n",
    "- 【お持ち帰り用デザート（肉）】SageMaker Training と Inference の応用編\n",
    "\n",
    "***※ SageMaker の機能を表現するために一部過剰な表現が含まれていることがあります。予めご了承ください。***"
   ]
  },
  {
   "cell_type": "markdown",
   "id": "410288c7-faf5-4b33-83cb-8be653939a92",
   "metadata": {},
   "source": [
    "# 【前菜】SageMaker Training と Inference の全体像"
   ]
  },
  {
   "cell_type": "markdown",
   "id": "572c35d7-e974-484d-bedd-12dc42b72412",
   "metadata": {},
   "source": [
    "![overview-training](./images/SageMaker-whole-image.png)"
   ]
  },
  {
   "cell_type": "markdown",
   "id": "decb20b6",
   "metadata": {},
   "source": [
    "# 【肉 1】SageMaker Training - 座学編"
   ]
  },
  {
   "cell_type": "markdown",
   "id": "5b73fc4d",
   "metadata": {},
   "source": [
    "## 全体のイメージ\n",
    "\n",
    "![overview-training](./images/overview-training.png)\n",
    "\n",
    "SageMaker Training の機能とは、ユーザーが用意した「コード」と「データ」を指定した「コンピューティングリソース」と「環境」で実行し、「実行履歴を自動記録」して、「アーティファクトを自動保存」する機能。"
   ]
  },
  {
   "cell_type": "markdown",
   "id": "4efc11f2",
   "metadata": {},
   "source": [
    "## 構成要素\n",
    "\n",
    "* 学習データ\n",
    "* 学習コード\n",
    "* DL/ML 実行環境 (TensorFlow、PYTORCH、mxnet、Hugging Face、または scikit-learn など)"
   ]
  },
  {
   "cell_type": "markdown",
   "id": "1cee9cad",
   "metadata": {},
   "source": [
    "## SageMaker Python SDK\n",
    "* SageMaker 上でモデルの学習やデプロイなどを行うためのオープンソースライブラリ\n",
    "* データサイエンティストが簡単に AWS を使えるよう、SageMaker とその周辺のサービスに絞った高レベル API を提供\n",
    "\n",
    "※ SageMaker 自体は CLI や Python SDK (Boto3) などからも利用可能"
   ]
  },
  {
   "cell_type": "markdown",
   "id": "168904a6",
   "metadata": {},
   "source": [
    "## SDK でトレーニングを開始する準備"
   ]
  },
  {
   "cell_type": "markdown",
   "id": "9949da0c",
   "metadata": {},
   "source": [
    "![prepare-training](./images/prepare-training.png)\n",
    "\n",
    "(必要に応じて) トレーニングデータとトレーニング用のコンテナイメージを用意し、それぞれ S3 と ECR に格納する。"
   ]
  },
  {
   "cell_type": "markdown",
   "id": "b6fa1399",
   "metadata": {},
   "source": [
    "## SDK でトレーニングの開始時の全体像"
   ]
  },
  {
   "cell_type": "markdown",
   "id": "4b5cdded",
   "metadata": {},
   "source": [
    "![start-training](./images/start-training.png)\n",
    "\n",
    "* SDK の API 経由でトレーニングを定義して、トレーニングを開始する。\n",
    "* 各フレームワークごとにジョブ定義用の estimator を利用して、使用するコードやバージョンを定義する。"
   ]
  },
  {
   "cell_type": "markdown",
   "id": "41ff7795",
   "metadata": {},
   "source": [
    "## トレーニング完了時の全体像"
   ]
  },
  {
   "cell_type": "markdown",
   "id": "b0c054a7",
   "metadata": {},
   "source": [
    "![completed-training](./images/completed-training.png)\n",
    "\n",
    "* トレーニング完了時にアーティファクト (コードやモデルなどの総称) が S3 に自動で転送される。\n",
    "* ジョブ終了時に自動でインスタンスが削除され課金が停止する。\n",
    "* 実行中のメトリクス/標準出力は CloudWatch に自動で転送される。"
   ]
  },
  {
   "cell_type": "markdown",
   "id": "f1956040",
   "metadata": {},
   "source": [
    "# 【肉 2】SageMaker Training - ハンズオン編"
   ]
  },
  {
   "cell_type": "markdown",
   "id": "d92539de",
   "metadata": {},
   "source": [
    "## 1-1. SageMaker SDK のバージョンを最新にしておく"
   ]
  },
  {
   "cell_type": "code",
   "execution_count": 1,
   "id": "5b151364",
   "metadata": {
    "scrolled": true,
    "tags": []
   },
   "outputs": [
    {
     "name": "stdout",
     "output_type": "stream",
     "text": [
      "Requirement already satisfied: sagemaker in /opt/conda/lib/python3.10/site-packages (2.198.1)\n",
      "Collecting sagemaker\n",
      "  Downloading sagemaker-2.210.0-py3-none-any.whl.metadata (13 kB)\n",
      "Requirement already satisfied: attrs<24,>=23.1.0 in /opt/conda/lib/python3.10/site-packages (from sagemaker) (23.2.0)\n",
      "Collecting boto3<2.0,>=1.33.3 (from sagemaker)\n",
      "  Downloading boto3-1.34.52-py3-none-any.whl.metadata (6.6 kB)\n",
      "Requirement already satisfied: cloudpickle==2.2.1 in /opt/conda/lib/python3.10/site-packages (from sagemaker) (2.2.1)\n",
      "Requirement already satisfied: google-pasta in /opt/conda/lib/python3.10/site-packages (from sagemaker) (0.2.0)\n",
      "Requirement already satisfied: numpy<2.0,>=1.9.0 in /opt/conda/lib/python3.10/site-packages (from sagemaker) (1.26.3)\n",
      "Requirement already satisfied: protobuf<5.0,>=3.12 in /opt/conda/lib/python3.10/site-packages (from sagemaker) (4.21.12)\n",
      "Requirement already satisfied: smdebug-rulesconfig==1.0.1 in /opt/conda/lib/python3.10/site-packages (from sagemaker) (1.0.1)\n",
      "Requirement already satisfied: importlib-metadata<7.0,>=1.4.0 in /opt/conda/lib/python3.10/site-packages (from sagemaker) (6.10.0)\n",
      "Requirement already satisfied: packaging>=20.0 in /opt/conda/lib/python3.10/site-packages (from sagemaker) (23.2)\n",
      "Requirement already satisfied: pandas in /opt/conda/lib/python3.10/site-packages (from sagemaker) (2.1.4)\n",
      "Requirement already satisfied: pathos in /opt/conda/lib/python3.10/site-packages (from sagemaker) (0.3.2)\n",
      "Requirement already satisfied: schema in /opt/conda/lib/python3.10/site-packages (from sagemaker) (0.7.5)\n",
      "Requirement already satisfied: PyYAML~=6.0 in /opt/conda/lib/python3.10/site-packages (from sagemaker) (6.0.1)\n",
      "Requirement already satisfied: jsonschema in /opt/conda/lib/python3.10/site-packages (from sagemaker) (4.17.3)\n",
      "Requirement already satisfied: platformdirs in /opt/conda/lib/python3.10/site-packages (from sagemaker) (4.2.0)\n",
      "Requirement already satisfied: tblib<3,>=1.7.0 in /opt/conda/lib/python3.10/site-packages (from sagemaker) (1.7.0)\n",
      "Requirement already satisfied: urllib3<3.0.0,>=1.26.8 in /opt/conda/lib/python3.10/site-packages (from sagemaker) (1.26.18)\n",
      "Requirement already satisfied: requests in /opt/conda/lib/python3.10/site-packages (from sagemaker) (2.31.0)\n",
      "Collecting docker (from sagemaker)\n",
      "  Downloading docker-7.0.0-py3-none-any.whl.metadata (3.5 kB)\n",
      "Requirement already satisfied: tqdm in /opt/conda/lib/python3.10/site-packages (from sagemaker) (4.66.1)\n",
      "Requirement already satisfied: psutil in /opt/conda/lib/python3.10/site-packages (from sagemaker) (5.9.8)\n",
      "Collecting botocore<1.35.0,>=1.34.52 (from boto3<2.0,>=1.33.3->sagemaker)\n",
      "  Downloading botocore-1.34.52-py3-none-any.whl.metadata (5.7 kB)\n",
      "Requirement already satisfied: jmespath<2.0.0,>=0.7.1 in /opt/conda/lib/python3.10/site-packages (from boto3<2.0,>=1.33.3->sagemaker) (1.0.1)\n",
      "Collecting s3transfer<0.11.0,>=0.10.0 (from boto3<2.0,>=1.33.3->sagemaker)\n",
      "  Downloading s3transfer-0.10.0-py3-none-any.whl.metadata (1.7 kB)\n",
      "Requirement already satisfied: zipp>=0.5 in /opt/conda/lib/python3.10/site-packages (from importlib-metadata<7.0,>=1.4.0->sagemaker) (3.17.0)\n",
      "Requirement already satisfied: charset-normalizer<4,>=2 in /opt/conda/lib/python3.10/site-packages (from requests->sagemaker) (3.3.2)\n",
      "Requirement already satisfied: idna<4,>=2.5 in /opt/conda/lib/python3.10/site-packages (from requests->sagemaker) (3.6)\n",
      "Requirement already satisfied: certifi>=2017.4.17 in /opt/conda/lib/python3.10/site-packages (from requests->sagemaker) (2023.11.17)\n",
      "Requirement already satisfied: six in /opt/conda/lib/python3.10/site-packages (from google-pasta->sagemaker) (1.16.0)\n",
      "Requirement already satisfied: pyrsistent!=0.17.0,!=0.17.1,!=0.17.2,>=0.14.0 in /opt/conda/lib/python3.10/site-packages (from jsonschema->sagemaker) (0.20.0)\n",
      "Requirement already satisfied: python-dateutil>=2.8.2 in /opt/conda/lib/python3.10/site-packages (from pandas->sagemaker) (2.8.2)\n",
      "Requirement already satisfied: pytz>=2020.1 in /opt/conda/lib/python3.10/site-packages (from pandas->sagemaker) (2023.3)\n",
      "Requirement already satisfied: tzdata>=2022.1 in /opt/conda/lib/python3.10/site-packages (from pandas->sagemaker) (2023.4)\n",
      "Requirement already satisfied: ppft>=1.7.6.8 in /opt/conda/lib/python3.10/site-packages (from pathos->sagemaker) (1.7.6.8)\n",
      "Collecting dill>=0.3.8 (from pathos->sagemaker)\n",
      "  Downloading dill-0.3.8-py3-none-any.whl.metadata (10 kB)\n",
      "Requirement already satisfied: pox>=0.3.4 in /opt/conda/lib/python3.10/site-packages (from pathos->sagemaker) (0.3.4)\n",
      "Collecting multiprocess>=0.70.16 (from pathos->sagemaker)\n",
      "  Downloading multiprocess-0.70.16-py310-none-any.whl.metadata (7.2 kB)\n",
      "Requirement already satisfied: contextlib2>=0.5.5 in /opt/conda/lib/python3.10/site-packages (from schema->sagemaker) (21.6.0)\n",
      "Downloading sagemaker-2.210.0-py3-none-any.whl (1.4 MB)\n",
      "\u001b[2K   \u001b[90m━━━━━━━━━━━━━━━━━━━━━━━━━━━━━━━━━━━━━━━━\u001b[0m \u001b[32m1.4/1.4 MB\u001b[0m \u001b[31m74.4 MB/s\u001b[0m eta \u001b[36m0:00:00\u001b[0m\n",
      "\u001b[?25hDownloading boto3-1.34.52-py3-none-any.whl (139 kB)\n",
      "\u001b[2K   \u001b[90m━━━━━━━━━━━━━━━━━━━━━━━━━━━━━━━━━━━━━━━━\u001b[0m \u001b[32m139.3/139.3 kB\u001b[0m \u001b[31m16.7 MB/s\u001b[0m eta \u001b[36m0:00:00\u001b[0m\n",
      "\u001b[?25hDownloading docker-7.0.0-py3-none-any.whl (147 kB)\n",
      "\u001b[2K   \u001b[90m━━━━━━━━━━━━━━━━━━━━━━━━━━━━━━━━━━━━━━━━\u001b[0m \u001b[32m147.6/147.6 kB\u001b[0m \u001b[31m21.7 MB/s\u001b[0m eta \u001b[36m0:00:00\u001b[0m\n",
      "\u001b[?25hDownloading botocore-1.34.52-py3-none-any.whl (12.0 MB)\n",
      "\u001b[2K   \u001b[90m━━━━━━━━━━━━━━━━━━━━━━━━━━━━━━━━━━━━━━━━\u001b[0m \u001b[32m12.0/12.0 MB\u001b[0m \u001b[31m86.7 MB/s\u001b[0m eta \u001b[36m0:00:00\u001b[0m:00:01\u001b[0m00:01\u001b[0m\n",
      "\u001b[?25hDownloading dill-0.3.8-py3-none-any.whl (116 kB)\n",
      "\u001b[2K   \u001b[90m━━━━━━━━━━━━━━━━━━━━━━━━━━━━━━━━━━━━━━━━\u001b[0m \u001b[32m116.3/116.3 kB\u001b[0m \u001b[31m18.1 MB/s\u001b[0m eta \u001b[36m0:00:00\u001b[0m\n",
      "\u001b[?25hDownloading multiprocess-0.70.16-py310-none-any.whl (134 kB)\n",
      "\u001b[2K   \u001b[90m━━━━━━━━━━━━━━━━━━━━━━━━━━━━━━━━━━━━━━━━\u001b[0m \u001b[32m134.8/134.8 kB\u001b[0m \u001b[31m13.5 MB/s\u001b[0m eta \u001b[36m0:00:00\u001b[0m\n",
      "\u001b[?25hDownloading s3transfer-0.10.0-py3-none-any.whl (82 kB)\n",
      "\u001b[2K   \u001b[90m━━━━━━━━━━━━━━━━━━━━━━━━━━━━━━━━━━━━━━━━\u001b[0m \u001b[32m82.1/82.1 kB\u001b[0m \u001b[31m12.6 MB/s\u001b[0m eta \u001b[36m0:00:00\u001b[0m\n",
      "\u001b[?25hInstalling collected packages: dill, multiprocess, docker, botocore, s3transfer, boto3, sagemaker\n",
      "  Attempting uninstall: dill\n",
      "    Found existing installation: dill 0.3.7\n",
      "    Uninstalling dill-0.3.7:\n",
      "      Successfully uninstalled dill-0.3.7\n",
      "  Attempting uninstall: multiprocess\n",
      "    Found existing installation: multiprocess 0.70.15\n",
      "    Uninstalling multiprocess-0.70.15:\n",
      "      Successfully uninstalled multiprocess-0.70.15\n",
      "  Attempting uninstall: botocore\n",
      "    Found existing installation: botocore 1.31.64\n",
      "    Uninstalling botocore-1.31.64:\n",
      "      Successfully uninstalled botocore-1.31.64\n",
      "  Attempting uninstall: s3transfer\n",
      "    Found existing installation: s3transfer 0.7.0\n",
      "    Uninstalling s3transfer-0.7.0:\n",
      "      Successfully uninstalled s3transfer-0.7.0\n",
      "  Attempting uninstall: boto3\n",
      "    Found existing installation: boto3 1.28.64\n",
      "    Uninstalling boto3-1.28.64:\n",
      "      Successfully uninstalled boto3-1.28.64\n",
      "  Attempting uninstall: sagemaker\n",
      "    Found existing installation: sagemaker 2.198.1\n",
      "    Uninstalling sagemaker-2.198.1:\n",
      "      Successfully uninstalled sagemaker-2.198.1\n",
      "\u001b[31mERROR: pip's dependency resolver does not currently take into account all the packages that are installed. This behaviour is the source of the following dependency conflicts.\n",
      "aiobotocore 2.7.0 requires botocore<1.31.65,>=1.31.16, but you have botocore 1.34.52 which is incompatible.\n",
      "datasets 2.16.1 requires dill<0.3.8,>=0.3.0, but you have dill 0.3.8 which is incompatible.\u001b[0m\u001b[31m\n",
      "\u001b[0mSuccessfully installed boto3-1.34.52 botocore-1.34.52 dill-0.3.8 docker-7.0.0 multiprocess-0.70.16 s3transfer-0.10.0 sagemaker-2.210.0\n",
      "Note: you may need to restart the kernel to use updated packages.\n"
     ]
    }
   ],
   "source": [
    "pip install sagemaker -U"
   ]
  },
  {
   "cell_type": "code",
   "execution_count": 2,
   "id": "d3963dd2",
   "metadata": {
    "tags": []
   },
   "outputs": [
    {
     "name": "stdout",
     "output_type": "stream",
     "text": [
      "sagemaker.config INFO - Not applying SDK defaults from location: /etc/xdg/sagemaker/config.yaml\n",
      "sagemaker.config INFO - Not applying SDK defaults from location: /home/sagemaker-user/.config/sagemaker/config.yaml\n",
      "2.210.0\n"
     ]
    }
   ],
   "source": [
    "import sagemaker\n",
    "print(sagemaker.__version__)"
   ]
  },
  {
   "cell_type": "markdown",
   "id": "1d2066e4",
   "metadata": {},
   "source": [
    "## 1-2. データをトレーニングインスタンスに持ち込む\n",
    "### 1-2-1. 単一のファイルを持ち込む\n",
    "#### 持ち込むデータの確認\n",
    "算数の計算問題を記載したデータを用意"
   ]
  },
  {
   "cell_type": "code",
   "execution_count": 3,
   "id": "8db4d553",
   "metadata": {
    "tags": []
   },
   "outputs": [
    {
     "name": "stdout",
     "output_type": "stream",
     "text": [
      "---データの確認---\n",
      "3+4\n",
      "4-2\n",
      "5*1\n",
      "6/2\n",
      "---計算結果---\n",
      "7\n",
      "2\n",
      "5\n",
      "3.0\n"
     ]
    }
   ],
   "source": [
    "with open('./data/1-2-1/calc.txt','rt') as f:\n",
    "    input_text_lines = f.read()\n",
    "print('---データの確認---')\n",
    "print(input_text_lines)\n",
    "print('---計算結果---')\n",
    "for input_text in input_text_lines.split('\\n'):\n",
    "    print(eval(input_text))"
   ]
  },
  {
   "cell_type": "markdown",
   "id": "74ff0117",
   "metadata": {},
   "source": [
    "#### 持ち込むデータを S3 にアップロード\n",
    "`upload_data` メソッドを使うと S3 にデータをアップロードできる。返り値は S3 の URI"
   ]
  },
  {
   "cell_type": "code",
   "execution_count": 4,
   "id": "7cd53438",
   "metadata": {},
   "outputs": [
    {
     "name": "stdout",
     "output_type": "stream",
     "text": [
      "s3://sagemaker-us-east-1-222426255091/training/1-2-1/calc.txt\n"
     ]
    }
   ],
   "source": [
    "# S3 にデータをアップロード\n",
    "import sagemaker\n",
    "\n",
    "input_s3_uri = sagemaker.session.Session().upload_data(\n",
    "    path='./data/1-2-1/calc.txt', \n",
    "    bucket=sagemaker.session.Session().default_bucket(), \n",
    "    key_prefix='training/1-2-1'\n",
    ")\n",
    "print(input_s3_uri)"
   ]
  },
  {
   "cell_type": "markdown",
   "id": "da82feb8",
   "metadata": {},
   "source": [
    "#### 用意したコードを確認 (BYOA)\n",
    "* トレーニングインスタンスに連携するデータはデフォルトだと環境変数 `SM_CHANNEL_TRAINING`(=`/opt/ml/input/training`) の値が示すディレクトリに格納される\n",
    "* SM_CHANNEL_TRAINING にあるファイルを読み込み、1 行ずつデータを読み込んで文字列を数式として解釈して演算するコードを準備"
   ]
  },
  {
   "cell_type": "code",
   "execution_count": 5,
   "id": "03bb28e3",
   "metadata": {},
   "outputs": [
    {
     "name": "stdout",
     "output_type": "stream",
     "text": [
      "\u001b[34mimport\u001b[39;49;00m \u001b[04m\u001b[36mos\u001b[39;49;00m\u001b[37m\u001b[39;49;00m\n",
      "input_dir = os.environ.get(\u001b[33m'\u001b[39;49;00m\u001b[33mSM_CHANNEL_TRAINING\u001b[39;49;00m\u001b[33m'\u001b[39;49;00m)\u001b[37m\u001b[39;49;00m\n",
      "input_txt_path = os.path.join(input_dir,os.listdir(input_dir)[\u001b[34m0\u001b[39;49;00m])\u001b[37m\u001b[39;49;00m\n",
      "\u001b[34mwith\u001b[39;49;00m \u001b[36mopen\u001b[39;49;00m(input_txt_path,\u001b[33m'\u001b[39;49;00m\u001b[33mrt\u001b[39;49;00m\u001b[33m'\u001b[39;49;00m) \u001b[34mas\u001b[39;49;00m f:\u001b[37m\u001b[39;49;00m\n",
      "    input_text_lines = f.read()\u001b[37m\u001b[39;49;00m\n",
      "\u001b[34mfor\u001b[39;49;00m input_text_line \u001b[35min\u001b[39;49;00m input_text_lines.split(\u001b[33m'\u001b[39;49;00m\u001b[33m\\n\u001b[39;49;00m\u001b[33m'\u001b[39;49;00m):\u001b[37m\u001b[39;49;00m\n",
      "    \u001b[36mprint\u001b[39;49;00m(\u001b[36meval\u001b[39;49;00m(input_text_line))\u001b[37m\u001b[39;49;00m\n",
      "exit()\u001b[37m\u001b[39;49;00m\n"
     ]
    }
   ],
   "source": [
    "!pygmentize ./src/1-2-1/calc.py"
   ]
  },
  {
   "cell_type": "markdown",
   "id": "4848683c",
   "metadata": {},
   "source": [
    "### Containers!!\n",
    "AWS のマネジメントコンテナ(AWS Deep Learning Container / SageMaker Scikit-learn Container) で Training Job を実行する\n",
    "各マネジメントコンテナ用のクラスが SageMaker SDK に準備されていて、その class をインスタンス化( `estimator` 変数でインスタンス化する)する際に引数でバージョンを指定することで利用するコンテナが確定する\n",
    "\n",
    "|  class  |  コンテナ  | コンテナ詳細 | \n",
    "| ---- | ---- | ---- | \n",
    "|  [`sagemaker.tensorflow.TensorFlow`](https://sagemaker.readthedocs.io/en/stable/frameworks/tensorflow/sagemaker.tensorflow.html#sagemaker.tensorflow.estimator.TensorFlow)  |  TensorFlow | [利用可能なバージョン一覧及びソース](https://github.com/aws/deep-learning-containers/blob/master/available_images.md) | \n",
    "|  [`sagemaker.pytorch.PyTorch`](https://sagemaker.readthedocs.io/en/stable/frameworks/pytorch/sagemaker.pytorch.html#sagemaker.pytorch.estimator.PyTorch)  |  PyTorch  |^|\n",
    "|  [`sagemaker.pytorch.MXNet`](https://sagemaker.readthedocs.io/en/stable/frameworks/mxnet/sagemaker.mxnet.html#sagemaker.mxnet.estimator.MXNet)  |  MXNet  |^|\n",
    "|  [`sagemaker.pytorch.HuggingFace`](https://sagemaker.readthedocs.io/en/stable/frameworks/huggingface/sagemaker.huggingface.html#sagemaker.huggingface.HuggingFace)  |  HuggingFace  |^|\n",
    "|  [`sagemaker.sklearn.SKLearn`](https://sagemaker.readthedocs.io/en/stable/frameworks/sklearn/sagemaker.sklearn.html)  |  scikit-learn  |[コンテナソース](https://github.com/aws/sagemaker-scikit-learn-container)|\n"
   ]
  },
  {
   "cell_type": "markdown",
   "id": "5d29ee76",
   "metadata": {},
   "source": [
    "### TensorFlow コンテナで実行\n",
    "各フレームワーク(TensorFlow, PyTorch, MXNet, HuggingFace, scikit-learn) 毎に用意された estimator class で ジョブを定義し、estimator インスタンスを生成する。\n",
    "* `entry_point` 引数に用意したコードを指定することで使える\n",
    "* フレームワーク毎のクラス + py_version + framework_version + instance_type で使用するコンテナイメージが確定する。\n",
    "  * 以下の場合は python3.8 が入った TensorFlow が 2.7.1 の CPU に最適化されたコンテナイメージ  \n",
    "    763104351884.dkr.ecr.{REGION}.amazonaws.com/tensorflow-training:2.7.1-cpu-py38\n",
    "  * estimator インスタンスの `training_image_uri` メソッドでコンテナイメージの URI を確認できる\n",
    "* estimator 生成時に `image_uri` 引数を指定することで直接コンテナイメージを指定することもできる"
   ]
  },
  {
   "cell_type": "code",
   "execution_count": 6,
   "id": "c38f6f3d",
   "metadata": {},
   "outputs": [
    {
     "name": "stdout",
     "output_type": "stream",
     "text": [
      "トレーニングに使用するコンテナイメージは 763104351884.dkr.ecr.us-east-1.amazonaws.com/tensorflow-training:2.7.1-cpu-py38 です\n"
     ]
    },
    {
     "name": "stderr",
     "output_type": "stream",
     "text": [
      "INFO:sagemaker.image_uris:image_uri is not presented, retrieving image_uri based on instance_type, framework etc.\n",
      "INFO:sagemaker:Creating training-job with name: tensorflow-training-2024-02-29-00-15-13-545\n"
     ]
    },
    {
     "name": "stdout",
     "output_type": "stream",
     "text": [
      "2024-02-29 00:15:14 Starting - Starting the training job...\n",
      "2024-02-29 00:15:30 Starting - Preparing the instances for training...\n",
      "2024-02-29 00:16:00 Downloading - Downloading input data...\n",
      "2024-02-29 00:16:15 Downloading - Downloading the training image...\n",
      "2024-02-29 00:17:06 Training - Training image download completed. Training in progress...\u001b[34m2024-02-29 00:17:16.683749: W tensorflow/core/profiler/internal/smprofiler_timeline.cc:460] Initializing the SageMaker Profiler.\u001b[0m\n",
      "\u001b[34m2024-02-29 00:17:16.683931: W tensorflow/core/profiler/internal/smprofiler_timeline.cc:105] SageMaker Profiler is not enabled. The timeline writer thread will not be started, future recorded events will be dropped.\u001b[0m\n",
      "\u001b[34m2024-02-29 00:17:16.711703: W tensorflow/core/profiler/internal/smprofiler_timeline.cc:460] Initializing the SageMaker Profiler.\u001b[0m\n",
      "\u001b[34m2024-02-29 00:17:18,555 sagemaker-training-toolkit INFO     Imported framework sagemaker_tensorflow_container.training\u001b[0m\n",
      "\u001b[34m2024-02-29 00:17:18,564 sagemaker-training-toolkit INFO     No GPUs detected (normal if no gpus installed)\u001b[0m\n",
      "\u001b[34m2024-02-29 00:17:18,856 sagemaker-training-toolkit INFO     No GPUs detected (normal if no gpus installed)\u001b[0m\n",
      "\u001b[34m2024-02-29 00:17:18,874 sagemaker-training-toolkit INFO     No GPUs detected (normal if no gpus installed)\u001b[0m\n",
      "\u001b[34m2024-02-29 00:17:18,892 sagemaker-training-toolkit INFO     No GPUs detected (normal if no gpus installed)\u001b[0m\n",
      "\u001b[34m2024-02-29 00:17:18,902 sagemaker-training-toolkit INFO     Invoking user script\u001b[0m\n",
      "\u001b[34mTraining Env:\u001b[0m\n",
      "\u001b[34m{\n",
      "    \"additional_framework_parameters\": {},\n",
      "    \"channel_input_dirs\": {\n",
      "        \"training\": \"/opt/ml/input/data/training\"\n",
      "    },\n",
      "    \"current_host\": \"algo-1\",\n",
      "    \"current_instance_group\": \"homogeneousCluster\",\n",
      "    \"current_instance_group_hosts\": [\n",
      "        \"algo-1\"\n",
      "    ],\n",
      "    \"current_instance_type\": \"ml.m5.xlarge\",\n",
      "    \"distribution_hosts\": [],\n",
      "    \"distribution_instance_groups\": [],\n",
      "    \"framework_module\": \"sagemaker_tensorflow_container.training:main\",\n",
      "    \"hosts\": [\n",
      "        \"algo-1\"\n",
      "    ],\n",
      "    \"hyperparameters\": {\n",
      "        \"model_dir\": \"s3://sagemaker-us-east-1-222426255091/tensorflow-training-2024-02-29-00-15-13-545/model\"\n",
      "    },\n",
      "    \"input_config_dir\": \"/opt/ml/input/config\",\n",
      "    \"input_data_config\": {\n",
      "        \"training\": {\n",
      "            \"TrainingInputMode\": \"File\",\n",
      "            \"S3DistributionType\": \"FullyReplicated\",\n",
      "            \"RecordWrapperType\": \"None\"\n",
      "        }\n",
      "    },\n",
      "    \"input_dir\": \"/opt/ml/input\",\n",
      "    \"instance_groups\": [\n",
      "        \"homogeneousCluster\"\n",
      "    ],\n",
      "    \"instance_groups_dict\": {\n",
      "        \"homogeneousCluster\": {\n",
      "            \"instance_group_name\": \"homogeneousCluster\",\n",
      "            \"instance_type\": \"ml.m5.xlarge\",\n",
      "            \"hosts\": [\n",
      "                \"algo-1\"\n",
      "            ]\n",
      "        }\n",
      "    },\n",
      "    \"is_hetero\": false,\n",
      "    \"is_master\": true,\n",
      "    \"job_name\": \"tensorflow-training-2024-02-29-00-15-13-545\",\n",
      "    \"log_level\": 20,\n",
      "    \"master_hostname\": \"algo-1\",\n",
      "    \"model_dir\": \"/opt/ml/model\",\n",
      "    \"module_dir\": \"s3://sagemaker-us-east-1-222426255091/tensorflow-training-2024-02-29-00-15-13-545/source/sourcedir.tar.gz\",\n",
      "    \"module_name\": \"calc\",\n",
      "    \"network_interface_name\": \"eth0\",\n",
      "    \"num_cpus\": 4,\n",
      "    \"num_gpus\": 0,\n",
      "    \"output_data_dir\": \"/opt/ml/output/data\",\n",
      "    \"output_dir\": \"/opt/ml/output\",\n",
      "    \"output_intermediate_dir\": \"/opt/ml/output/intermediate\",\n",
      "    \"resource_config\": {\n",
      "        \"current_host\": \"algo-1\",\n",
      "        \"current_instance_type\": \"ml.m5.xlarge\",\n",
      "        \"current_group_name\": \"homogeneousCluster\",\n",
      "        \"hosts\": [\n",
      "            \"algo-1\"\n",
      "        ],\n",
      "        \"instance_groups\": [\n",
      "            {\n",
      "                \"instance_group_name\": \"homogeneousCluster\",\n",
      "                \"instance_type\": \"ml.m5.xlarge\",\n",
      "                \"hosts\": [\n",
      "                    \"algo-1\"\n",
      "                ]\n",
      "            }\n",
      "        ],\n",
      "        \"network_interface_name\": \"eth0\"\n",
      "    },\n",
      "    \"user_entry_point\": \"calc.py\"\u001b[0m\n",
      "\u001b[34m}\u001b[0m\n",
      "\u001b[34mEnvironment variables:\u001b[0m\n",
      "\u001b[34mSM_HOSTS=[\"algo-1\"]\u001b[0m\n",
      "\u001b[34mSM_NETWORK_INTERFACE_NAME=eth0\u001b[0m\n",
      "\u001b[34mSM_HPS={\"model_dir\":\"s3://sagemaker-us-east-1-222426255091/tensorflow-training-2024-02-29-00-15-13-545/model\"}\u001b[0m\n",
      "\u001b[34mSM_USER_ENTRY_POINT=calc.py\u001b[0m\n",
      "\u001b[34mSM_FRAMEWORK_PARAMS={}\u001b[0m\n",
      "\u001b[34mSM_RESOURCE_CONFIG={\"current_group_name\":\"homogeneousCluster\",\"current_host\":\"algo-1\",\"current_instance_type\":\"ml.m5.xlarge\",\"hosts\":[\"algo-1\"],\"instance_groups\":[{\"hosts\":[\"algo-1\"],\"instance_group_name\":\"homogeneousCluster\",\"instance_type\":\"ml.m5.xlarge\"}],\"network_interface_name\":\"eth0\"}\u001b[0m\n",
      "\u001b[34mSM_INPUT_DATA_CONFIG={\"training\":{\"RecordWrapperType\":\"None\",\"S3DistributionType\":\"FullyReplicated\",\"TrainingInputMode\":\"File\"}}\u001b[0m\n",
      "\u001b[34mSM_OUTPUT_DATA_DIR=/opt/ml/output/data\u001b[0m\n",
      "\u001b[34mSM_CHANNELS=[\"training\"]\u001b[0m\n",
      "\u001b[34mSM_CURRENT_HOST=algo-1\u001b[0m\n",
      "\u001b[34mSM_CURRENT_INSTANCE_TYPE=ml.m5.xlarge\u001b[0m\n",
      "\u001b[34mSM_CURRENT_INSTANCE_GROUP=homogeneousCluster\u001b[0m\n",
      "\u001b[34mSM_CURRENT_INSTANCE_GROUP_HOSTS=[\"algo-1\"]\u001b[0m\n",
      "\u001b[34mSM_INSTANCE_GROUPS=[\"homogeneousCluster\"]\u001b[0m\n",
      "\u001b[34mSM_INSTANCE_GROUPS_DICT={\"homogeneousCluster\":{\"hosts\":[\"algo-1\"],\"instance_group_name\":\"homogeneousCluster\",\"instance_type\":\"ml.m5.xlarge\"}}\u001b[0m\n",
      "\u001b[34mSM_DISTRIBUTION_INSTANCE_GROUPS=[]\u001b[0m\n",
      "\u001b[34mSM_IS_HETERO=false\u001b[0m\n",
      "\u001b[34mSM_MODULE_NAME=calc\u001b[0m\n",
      "\u001b[34mSM_LOG_LEVEL=20\u001b[0m\n",
      "\u001b[34mSM_FRAMEWORK_MODULE=sagemaker_tensorflow_container.training:main\u001b[0m\n",
      "\u001b[34mSM_INPUT_DIR=/opt/ml/input\u001b[0m\n",
      "\u001b[34mSM_INPUT_CONFIG_DIR=/opt/ml/input/config\u001b[0m\n",
      "\u001b[34mSM_OUTPUT_DIR=/opt/ml/output\u001b[0m\n",
      "\u001b[34mSM_NUM_CPUS=4\u001b[0m\n",
      "\u001b[34mSM_NUM_GPUS=0\u001b[0m\n",
      "\u001b[34mSM_MODEL_DIR=/opt/ml/model\u001b[0m\n",
      "\u001b[34mSM_MODULE_DIR=s3://sagemaker-us-east-1-222426255091/tensorflow-training-2024-02-29-00-15-13-545/source/sourcedir.tar.gz\u001b[0m\n",
      "\u001b[34mSM_TRAINING_ENV={\"additional_framework_parameters\":{},\"channel_input_dirs\":{\"training\":\"/opt/ml/input/data/training\"},\"current_host\":\"algo-1\",\"current_instance_group\":\"homogeneousCluster\",\"current_instance_group_hosts\":[\"algo-1\"],\"current_instance_type\":\"ml.m5.xlarge\",\"distribution_hosts\":[],\"distribution_instance_groups\":[],\"framework_module\":\"sagemaker_tensorflow_container.training:main\",\"hosts\":[\"algo-1\"],\"hyperparameters\":{\"model_dir\":\"s3://sagemaker-us-east-1-222426255091/tensorflow-training-2024-02-29-00-15-13-545/model\"},\"input_config_dir\":\"/opt/ml/input/config\",\"input_data_config\":{\"training\":{\"RecordWrapperType\":\"None\",\"S3DistributionType\":\"FullyReplicated\",\"TrainingInputMode\":\"File\"}},\"input_dir\":\"/opt/ml/input\",\"instance_groups\":[\"homogeneousCluster\"],\"instance_groups_dict\":{\"homogeneousCluster\":{\"hosts\":[\"algo-1\"],\"instance_group_name\":\"homogeneousCluster\",\"instance_type\":\"ml.m5.xlarge\"}},\"is_hetero\":false,\"is_master\":true,\"job_name\":\"tensorflow-training-2024-02-29-00-15-13-545\",\"log_level\":20,\"master_hostname\":\"algo-1\",\"model_dir\":\"/opt/ml/model\",\"module_dir\":\"s3://sagemaker-us-east-1-222426255091/tensorflow-training-2024-02-29-00-15-13-545/source/sourcedir.tar.gz\",\"module_name\":\"calc\",\"network_interface_name\":\"eth0\",\"num_cpus\":4,\"num_gpus\":0,\"output_data_dir\":\"/opt/ml/output/data\",\"output_dir\":\"/opt/ml/output\",\"output_intermediate_dir\":\"/opt/ml/output/intermediate\",\"resource_config\":{\"current_group_name\":\"homogeneousCluster\",\"current_host\":\"algo-1\",\"current_instance_type\":\"ml.m5.xlarge\",\"hosts\":[\"algo-1\"],\"instance_groups\":[{\"hosts\":[\"algo-1\"],\"instance_group_name\":\"homogeneousCluster\",\"instance_type\":\"ml.m5.xlarge\"}],\"network_interface_name\":\"eth0\"},\"user_entry_point\":\"calc.py\"}\u001b[0m\n",
      "\u001b[34mSM_USER_ARGS=[\"--model_dir\",\"s3://sagemaker-us-east-1-222426255091/tensorflow-training-2024-02-29-00-15-13-545/model\"]\u001b[0m\n",
      "\u001b[34mSM_OUTPUT_INTERMEDIATE_DIR=/opt/ml/output/intermediate\u001b[0m\n",
      "\u001b[34mSM_CHANNEL_TRAINING=/opt/ml/input/data/training\u001b[0m\n",
      "\u001b[34mSM_HP_MODEL_DIR=s3://sagemaker-us-east-1-222426255091/tensorflow-training-2024-02-29-00-15-13-545/model\u001b[0m\n",
      "\u001b[34mPYTHONPATH=/opt/ml/code:/usr/local/bin:/usr/local/lib/python38.zip:/usr/local/lib/python3.8:/usr/local/lib/python3.8/lib-dynload:/usr/local/lib/python3.8/site-packages:/usr/local/lib/python3.8/site-packages/smdebug-1.0.12b20220701-py3.8.egg:/usr/local/lib/python3.8/site-packages/pyinstrument-3.4.2-py3.8.egg:/usr/local/lib/python3.8/site-packages/pyinstrument_cext-0.2.4-py3.8-linux-x86_64.egg\u001b[0m\n",
      "\u001b[34mInvoking script with the following command:\u001b[0m\n",
      "\u001b[34m/usr/local/bin/python3.8 calc.py --model_dir s3://sagemaker-us-east-1-222426255091/tensorflow-training-2024-02-29-00-15-13-545/model\u001b[0m\n",
      "\u001b[34m7\u001b[0m\n",
      "\u001b[34m2\u001b[0m\n",
      "\u001b[34m5\u001b[0m\n",
      "\u001b[34m3.0\u001b[0m\n",
      "\u001b[34m2024-02-29 00:17:18,937 sagemaker-training-toolkit INFO     Waiting for the process to finish and give a return code.\u001b[0m\n",
      "\u001b[34m2024-02-29 00:17:18,937 sagemaker-training-toolkit INFO     Done waiting for a return code. Received 0 from exiting process.\u001b[0m\n",
      "\u001b[34m2024-02-29 00:17:18,938 sagemaker_tensorflow_container.training WARNING  No model artifact is saved under path /opt/ml/model. Your training job will not save any model files to S3.\u001b[0m\n",
      "\u001b[34mFor details of how to construct your training script see:\u001b[0m\n",
      "\u001b[34mhttps://sagemaker.readthedocs.io/en/stable/using_tf.html#adapting-your-local-tensorflow-script\u001b[0m\n",
      "\u001b[34m2024-02-29 00:17:18,938 sagemaker-training-toolkit INFO     Reporting training SUCCESS\u001b[0m\n",
      "\n",
      "2024-02-29 00:17:32 Uploading - Uploading generated training model\n",
      "2024-02-29 00:17:32 Completed - Training job completed\n",
      "Training seconds: 92\n",
      "Billable seconds: 92\n"
     ]
    }
   ],
   "source": [
    "# TensorFlow コンテナで Training Job (About 5 min)\n",
    "from sagemaker.tensorflow import TensorFlow\n",
    "\n",
    "estimator = TensorFlow(\n",
    "    entry_point='./src/1-2-1/calc.py',\n",
    "    py_version='py38', \n",
    "    framework_version='2.7.1',\n",
    "    instance_count=1,\n",
    "    instance_type='ml.m5.xlarge',\n",
    "    role=sagemaker.get_execution_role()\n",
    ")\n",
    "print(f'トレーニングに使用するコンテナイメージは {estimator.training_image_uri()} です')\n",
    "estimator.fit(input_s3_uri)"
   ]
  },
  {
   "cell_type": "markdown",
   "id": "48048f4e",
   "metadata": {},
   "source": [
    "### PyTorch コンテナで実行\n",
    "他のフレームワークでも使い方は全く一緒"
   ]
  },
  {
   "cell_type": "code",
   "execution_count": null,
   "id": "c1abfa27",
   "metadata": {
    "tags": []
   },
   "outputs": [],
   "source": [
    "# PyTorch コンテナで Training Job\n",
    "from sagemaker.pytorch import PyTorch\n",
    "estimator = PyTorch(\n",
    "    entry_point='./src/1-2-1/calc.py',\n",
    "    py_version='py38', \n",
    "    framework_version='1.9.1',\n",
    "    instance_count=1,\n",
    "    instance_type='ml.m5.xlarge',\n",
    "    role=sagemaker.get_execution_role()\n",
    ")\n",
    "estimator.fit(input_s3_uri)"
   ]
  },
  {
   "cell_type": "markdown",
   "id": "48543aa8",
   "metadata": {},
   "source": [
    "### MXNet コンテナで実行"
   ]
  },
  {
   "cell_type": "code",
   "execution_count": null,
   "id": "e73763e7",
   "metadata": {
    "scrolled": true
   },
   "outputs": [],
   "source": [
    "# MXNet コンテナで Training Job\n",
    "from sagemaker.mxnet import MXNet\n",
    "estimator = MXNet(\n",
    "    entry_point='./src/1-2-1/calc.py',\n",
    "    py_version='py37', \n",
    "    framework_version='1.8.0',\n",
    "    instance_count=1,\n",
    "    instance_type='ml.m4.xlarge',\n",
    "    role=sagemaker.get_execution_role()\n",
    ")\n",
    "estimator.fit(input_s3_uri)"
   ]
  },
  {
   "cell_type": "markdown",
   "id": "e76cb185",
   "metadata": {},
   "source": [
    "### HuggingFace コンテナで実行"
   ]
  },
  {
   "cell_type": "code",
   "execution_count": null,
   "id": "23bda80e",
   "metadata": {
    "scrolled": true
   },
   "outputs": [],
   "source": [
    "# HuggingFace コンテナで　Training Job\n",
    "# 注意 : GPU のクオータ緩和をしないと使えません\n",
    "# from sagemaker.huggingface import HuggingFace\n",
    "# estimator = HuggingFace(\n",
    "#     entry_point='./src/1-2-1/calc.py',\n",
    "#     py_version='py37', \n",
    "#     transformers_version='4.6.1',\n",
    "#     tensorflow_version='2.4.1',\n",
    "#     instance_count=1,\n",
    "#     instance_type='ml.g4dn.xlarge',\n",
    "#     role=sagemaker.get_execution_role()\n",
    "# )\n",
    "# estimator.fit(input_s3_uri)"
   ]
  },
  {
   "cell_type": "markdown",
   "id": "70f25995",
   "metadata": {},
   "source": [
    "### scikit-learn コンテナで実行"
   ]
  },
  {
   "cell_type": "code",
   "execution_count": null,
   "id": "929b623a",
   "metadata": {
    "scrolled": true
   },
   "outputs": [],
   "source": [
    "# scikit-learn コンテナで Training Job\n",
    "from sagemaker.sklearn import SKLearn\n",
    "estimator = SKLearn(\n",
    "    entry_point='./src/1-2-1/calc.py',\n",
    "    py_version='py3', \n",
    "    framework_version='0.23-1',\n",
    "    instance_count=1,\n",
    "    instance_type='ml.c5.xlarge',\n",
    "    role=sagemaker.get_execution_role()\n",
    ")\n",
    "estimator.fit(input_s3_uri)"
   ]
  },
  {
   "cell_type": "markdown",
   "id": "9fd75090",
   "metadata": {},
   "source": [
    "### ジョブの実行結果確認\n",
    "使用したコンテナイメージ URI や実行時間、使ったコードのありかなどが記録される"
   ]
  },
  {
   "cell_type": "code",
   "execution_count": 7,
   "id": "8e96be4c",
   "metadata": {
    "scrolled": true,
    "tags": []
   },
   "outputs": [
    {
     "data": {
      "text/plain": [
       "{'TrainingJobName': 'tensorflow-training-2024-02-29-00-15-13-545',\n",
       " 'TrainingJobArn': 'arn:aws:sagemaker:us-east-1:222426255091:training-job/tensorflow-training-2024-02-29-00-15-13-545',\n",
       " 'ModelArtifacts': {'S3ModelArtifacts': 's3://sagemaker-us-east-1-222426255091/tensorflow-training-2024-02-29-00-15-13-545/output/model.tar.gz'},\n",
       " 'TrainingJobStatus': 'Completed',\n",
       " 'SecondaryStatus': 'Completed',\n",
       " 'HyperParameters': {'model_dir': '\"s3://sagemaker-us-east-1-222426255091/tensorflow-training-2024-02-29-00-15-13-545/model\"',\n",
       "  'sagemaker_container_log_level': '20',\n",
       "  'sagemaker_job_name': '\"tensorflow-training-2024-02-29-00-15-13-545\"',\n",
       "  'sagemaker_program': '\"calc.py\"',\n",
       "  'sagemaker_region': '\"us-east-1\"',\n",
       "  'sagemaker_submit_directory': '\"s3://sagemaker-us-east-1-222426255091/tensorflow-training-2024-02-29-00-15-13-545/source/sourcedir.tar.gz\"'},\n",
       " 'AlgorithmSpecification': {'TrainingImage': '763104351884.dkr.ecr.us-east-1.amazonaws.com/tensorflow-training:2.7.1-cpu-py38',\n",
       "  'TrainingInputMode': 'File',\n",
       "  'EnableSageMakerMetricsTimeSeries': True},\n",
       " 'RoleArn': 'arn:aws:iam::222426255091:role/service-role/SageMaker-ExecutionRole-20231214T191122',\n",
       " 'InputDataConfig': [{'ChannelName': 'training',\n",
       "   'DataSource': {'S3DataSource': {'S3DataType': 'S3Prefix',\n",
       "     'S3Uri': 's3://sagemaker-us-east-1-222426255091/training/1-2-1/calc.txt',\n",
       "     'S3DataDistributionType': 'FullyReplicated'}},\n",
       "   'CompressionType': 'None',\n",
       "   'RecordWrapperType': 'None'}],\n",
       " 'OutputDataConfig': {'KmsKeyId': '',\n",
       "  'S3OutputPath': 's3://sagemaker-us-east-1-222426255091/',\n",
       "  'CompressionType': 'GZIP'},\n",
       " 'ResourceConfig': {'InstanceType': 'ml.m5.xlarge',\n",
       "  'InstanceCount': 1,\n",
       "  'VolumeSizeInGB': 30},\n",
       " 'StoppingCondition': {'MaxRuntimeInSeconds': 86400},\n",
       " 'CreationTime': datetime.datetime(2024, 2, 29, 0, 15, 14, 95000, tzinfo=tzlocal()),\n",
       " 'TrainingStartTime': datetime.datetime(2024, 2, 29, 0, 16, 0, 267000, tzinfo=tzlocal()),\n",
       " 'TrainingEndTime': datetime.datetime(2024, 2, 29, 0, 17, 32, 201000, tzinfo=tzlocal()),\n",
       " 'LastModifiedTime': datetime.datetime(2024, 2, 29, 0, 17, 32, 527000, tzinfo=tzlocal()),\n",
       " 'SecondaryStatusTransitions': [{'Status': 'Starting',\n",
       "   'StartTime': datetime.datetime(2024, 2, 29, 0, 15, 14, 95000, tzinfo=tzlocal()),\n",
       "   'EndTime': datetime.datetime(2024, 2, 29, 0, 16, 0, 267000, tzinfo=tzlocal()),\n",
       "   'StatusMessage': 'Preparing the instances for training'},\n",
       "  {'Status': 'Downloading',\n",
       "   'StartTime': datetime.datetime(2024, 2, 29, 0, 16, 0, 267000, tzinfo=tzlocal()),\n",
       "   'EndTime': datetime.datetime(2024, 2, 29, 0, 17, 6, 201000, tzinfo=tzlocal()),\n",
       "   'StatusMessage': 'Downloading the training image'},\n",
       "  {'Status': 'Training',\n",
       "   'StartTime': datetime.datetime(2024, 2, 29, 0, 17, 6, 201000, tzinfo=tzlocal()),\n",
       "   'EndTime': datetime.datetime(2024, 2, 29, 0, 17, 21, 612000, tzinfo=tzlocal()),\n",
       "   'StatusMessage': 'Training image download completed. Training in progress.'},\n",
       "  {'Status': 'Uploading',\n",
       "   'StartTime': datetime.datetime(2024, 2, 29, 0, 17, 21, 612000, tzinfo=tzlocal()),\n",
       "   'EndTime': datetime.datetime(2024, 2, 29, 0, 17, 32, 201000, tzinfo=tzlocal()),\n",
       "   'StatusMessage': 'Uploading generated training model'},\n",
       "  {'Status': 'Completed',\n",
       "   'StartTime': datetime.datetime(2024, 2, 29, 0, 17, 32, 201000, tzinfo=tzlocal()),\n",
       "   'EndTime': datetime.datetime(2024, 2, 29, 0, 17, 32, 201000, tzinfo=tzlocal()),\n",
       "   'StatusMessage': 'Training job completed'}],\n",
       " 'EnableNetworkIsolation': False,\n",
       " 'EnableInterContainerTrafficEncryption': False,\n",
       " 'EnableManagedSpotTraining': False,\n",
       " 'TrainingTimeInSeconds': 92,\n",
       " 'BillableTimeInSeconds': 92,\n",
       " 'DebugHookConfig': {'S3OutputPath': 's3://sagemaker-us-east-1-222426255091/',\n",
       "  'CollectionConfigurations': []},\n",
       " 'ProfilerConfig': {'S3OutputPath': 's3://sagemaker-us-east-1-222426255091/',\n",
       "  'ProfilingIntervalInMilliseconds': 500,\n",
       "  'DisableProfiler': False},\n",
       " 'ProfilingStatus': 'Enabled',\n",
       " 'ResponseMetadata': {'RequestId': '9f0d9cb9-e774-47f5-9307-bd388ac78951',\n",
       "  'HTTPStatusCode': 200,\n",
       "  'HTTPHeaders': {'x-amzn-requestid': '9f0d9cb9-e774-47f5-9307-bd388ac78951',\n",
       "   'content-type': 'application/x-amz-json-1.1',\n",
       "   'content-length': '3389',\n",
       "   'date': 'Thu, 29 Feb 2024 00:27:20 GMT'},\n",
       "  'RetryAttempts': 0}}"
      ]
     },
     "execution_count": 7,
     "metadata": {},
     "output_type": "execute_result"
    }
   ],
   "source": [
    "# ジョブ定義や実行結果を確認\n",
    "estimator.latest_training_job.describe()"
   ]
  },
  {
   "cell_type": "markdown",
   "id": "12605d1a",
   "metadata": {},
   "source": [
    "#### 演習 1-2-1\n",
    "ファイルを適宜書き換えて、トレーニングの定義および開始のコードを作成してみましょう！（instance_type は local でも構いませんし、ml. 系列のインスタンスタイプを指定しても構いません）"
   ]
  },
  {
   "cell_type": "markdown",
   "id": "6b71a367",
   "metadata": {},
   "source": [
    "##### 書き換えたい方向け"
   ]
  },
  {
   "cell_type": "code",
   "execution_count": null,
   "id": "50510fc2",
   "metadata": {},
   "outputs": [],
   "source": [
    "# text = \"\"\"3+4\n",
    "# 4-2\n",
    "# 5*1\n",
    "# 6/2\"\"\"\n",
    "# with open('./data/1-2-1/calc.txt','wt') as f:\n",
    "#     f.write(text)"
   ]
  },
  {
   "cell_type": "code",
   "execution_count": null,
   "id": "0c124230",
   "metadata": {
    "scrolled": true
   },
   "outputs": [],
   "source": [
    "# トレーニングジョブの実行\n",
    "import sagemaker\n",
    "from sagemaker.tensorflow import TensorFlow\n",
    "\n",
    "## 以下はサンプルなので適宜変更してください。時間が限られている関係で fit() は呼び出しません。\n",
    "input_s3_uri = sagemaker.session.Session().upload_data(・・・)\n",
    "estimator = TensorFlow(・・・)\n",
    "# estimator.fit(・・・)"
   ]
  },
  {
   "cell_type": "markdown",
   "id": "bfdfce5f-cf29-4261-ba5e-3354477b7943",
   "metadata": {},
   "source": [
    "# 【魚 1】SageMaker Inference - 座学編"
   ]
  },
  {
   "cell_type": "markdown",
   "id": "003471ac-3447-42f6-84a7-ca4c8652cc62",
   "metadata": {},
   "source": [
    "## 全体のイメージ\n",
    "\n",
    "![inference-overview](./images/inference-overview.png)"
   ]
  },
  {
   "cell_type": "markdown",
   "id": "f0cd990c-ab9d-4274-8320-2a00a9a959f0",
   "metadata": {},
   "source": [
    "## 推論コードのお作法\n",
    "\n",
    "![code-rule-inference](./images/code-rule-inference.png)"
   ]
  },
  {
   "cell_type": "markdown",
   "id": "1b1c0c13-de9e-45ff-9789-da1ebc5fa0a5",
   "metadata": {},
   "source": [
    "# 【魚 2】SageMaker Inference - ハンズオン編\n",
    "Training Job を実行後、例えば以下のコードでデプロイまで実行できてしまいますが、今回のハンズオンでは仮想モデルを作成して Inference の Realtime-Endpoint の作成を行っていきます。\n",
    "```\n",
    "input_s3_uri = sagemaker.session.Session().upload_data(・・・)\n",
    "estimator = TensorFlow(・・・)\n",
    "estimator.fit(・・・)\n",
    "estimator.deploy(・・・)\n",
    "```"
   ]
  },
  {
   "cell_type": "markdown",
   "id": "1a808ed7-87e4-4c78-bb59-7d4a3546ebc9",
   "metadata": {},
   "source": [
    "## 準備"
   ]
  },
  {
   "cell_type": "markdown",
   "id": "e1865c8f-cba6-43de-a84b-b11bd9aea5c2",
   "metadata": {},
   "source": [
    "### モジュールのインポート、定数の設定、boto3 クライアントの設定、ロールの取得"
   ]
  },
  {
   "cell_type": "code",
   "execution_count": 9,
   "id": "dba1725f-f6fd-4e5e-889e-7d7ddeb1122b",
   "metadata": {},
   "outputs": [],
   "source": [
    "import sagemaker\n",
    "from typing import Final\n",
    "from sagemaker.pytorch import PyTorchModel\n",
    "from sagemaker.async_inference import AsyncInferenceConfig\n",
    "import os, boto3, json, numpy as np\n",
    "from io import BytesIO\n",
    "from time import sleep\n",
    "from uuid import uuid4\n",
    "smr_client = boto3.client('sagemaker-runtime')\n",
    "sm_client = boto3.client('sagemaker')\n",
    "s3_client = boto3.client('s3')\n",
    "endpoint_inservice_waiter = sm_client.get_waiter('endpoint_in_service')\n",
    "role = sagemaker.get_execution_role()\n",
    "region = sagemaker.Session().boto_region_name\n",
    "bucket = sagemaker.Session().default_bucket()"
   ]
  },
  {
   "cell_type": "markdown",
   "id": "78316d7b-2796-478c-b0d2-998f363061aa",
   "metadata": {},
   "source": [
    "### モデルと推論コードを保存するディレクトリを作成"
   ]
  },
  {
   "cell_type": "code",
   "execution_count": 10,
   "id": "1ffb9cb8-d55d-47dc-9b9b-8afeba6dd28d",
   "metadata": {},
   "outputs": [],
   "source": [
    "model_dir = 'model'\n",
    "!if [ -d ./{model_dir} ]; then rm -rf ./{model_dir}/;fi\n",
    "!mkdir ./{model_dir}/\n",
    "\n",
    "source_dir = 'source'\n",
    "!if [ -d ./{source_dir} ]; then rm -rf ./{source_dir}/;fi\n",
    "!mkdir ./{source_dir}/"
   ]
  },
  {
   "cell_type": "markdown",
   "id": "083df699-32d9-4dd6-9ee9-cb806310e530",
   "metadata": {},
   "source": [
    "### モデル相当のテキストファイルを `tar.gz` で固めて S3 にアップロードする\n",
    "* SageMaker で推論する場合は機械学習のモデルを `model.tar.gz` に固めておく必要がある\n",
    "    * SageMaker Training を使ってモデルを保存した場合は自動で tar.gz になるが、このハンズオンでは Training Job を使わないため、手動で tar.gz に固める\n",
    "    * 機械学習のモデルと言ったが、用意したファイルを読み込むコードを書き、その読み込んだデータを使って処理を行うだけなので必ずしも機械学習のモデルである必要はない\n",
    "    * このチュートリアルでは Hello my great machine learning model と書かれたテキストファイル(`my_model.txt`)を作成して、`tar.gz` に固める\n",
    "* `model.tar.gz` を推論環境で使うには予め S3 にアップロードしておく必要がある"
   ]
  },
  {
   "cell_type": "markdown",
   "id": "b742783a-7fff-469b-9919-cd163d6d0036",
   "metadata": {},
   "source": [
    "#### `my_model.txt` 作成"
   ]
  },
  {
   "cell_type": "code",
   "execution_count": 11,
   "id": "6b16d924-f139-4435-9a89-e4f1391d1d3d",
   "metadata": {},
   "outputs": [
    {
     "name": "stdout",
     "output_type": "stream",
     "text": [
      "Writing ./model/my_model.txt\n"
     ]
    }
   ],
   "source": [
    "%%writefile ./{model_dir}/my_model.txt\n",
    "Hello my great machine learning model"
   ]
  },
  {
   "cell_type": "markdown",
   "id": "eb7c2045-838d-44a8-afb9-16d9af11ad1b",
   "metadata": {},
   "source": [
    "#### `my_model.txt` を `model.tar.gz` に固める"
   ]
  },
  {
   "cell_type": "code",
   "execution_count": 12,
   "id": "dd700535-8140-471f-a03f-51751064ff98",
   "metadata": {},
   "outputs": [
    {
     "name": "stdout",
     "output_type": "stream",
     "text": [
      "/home/sagemaker-user/SageMaker-training-inference-basic-handson/model\n",
      "./my_model.txt\n",
      "/home/sagemaker-user/SageMaker-training-inference-basic-handson\n"
     ]
    }
   ],
   "source": [
    "%cd {model_dir}\n",
    "!tar zcvf model.tar.gz ./*\n",
    "%cd .."
   ]
  },
  {
   "cell_type": "markdown",
   "id": "8dea7abb-9e2e-4465-afff-e1b88cee0f0b",
   "metadata": {},
   "source": [
    "#### `model.tar.gz` を S3 にアップロード"
   ]
  },
  {
   "cell_type": "code",
   "execution_count": 13,
   "id": "2026bdf8-f5f2-439b-9579-e5dc65b5f3f7",
   "metadata": {},
   "outputs": [
    {
     "name": "stdout",
     "output_type": "stream",
     "text": [
      "s3://sagemaker-us-east-1-222426255091/hello_sagemaker_inference/model.tar.gz\n"
     ]
    }
   ],
   "source": [
    "model_s3_uri = sagemaker.session.Session().upload_data(\n",
    "    f'./{model_dir}/model.tar.gz',\n",
    "    key_prefix = 'hello_sagemaker_inference'\n",
    ")\n",
    "print(model_s3_uri)"
   ]
  },
  {
   "cell_type": "markdown",
   "id": "fc7d24db-c761-4a15-8027-3b60d076a58e",
   "metadata": {},
   "source": [
    "### 推論コードを作成する\n",
    "* 最低限 `model_fn` と `predict_fn` が必要\n",
    "* `model_fn` は `model.tar.gz` に固めたモデルを読み込むコード\n",
    "  * 第一引数に `model.tar.gz` を展開したディレクトリが入る\n",
    "  * 返り値にモデルを返すと、`predict_fn` の第二引数に入れられる\n",
    "* `predict_fn` は推論コード\n",
    "  * 第一引数にリクエスト(推論したいデータ)が入る\n",
    "  * 第二引数に model_fn の返り値が入る\n",
    "  * 推論結果を返り値に入れる"
   ]
  },
  {
   "cell_type": "code",
   "execution_count": 14,
   "id": "1bdeb15f-7a52-4aa3-b88d-849fab17b2aa",
   "metadata": {},
   "outputs": [
    {
     "name": "stdout",
     "output_type": "stream",
     "text": [
      "Writing ./source/inference.py\n"
     ]
    }
   ],
   "source": [
    "%%writefile ./{source_dir}/inference.py\n",
    "import os\n",
    "def model_fn(model_dir):\n",
    "    with open(os.path.join(model_dir,'my_model.txt')) as f:\n",
    "        model = f.read()[:-1] # 改行を除外\n",
    "    return model\n",
    "def predict_fn(input_data, model):\n",
    "    response = f'{model} for the {input_data}st time'\n",
    "    return response"
   ]
  },
  {
   "cell_type": "markdown",
   "id": "7c95c410-9f67-4d85-bf2c-b36565847397",
   "metadata": {},
   "source": [
    "## SageMaker SDK でモデルをデプロイしてリアルタイム推論\n",
    "### SageMaker SDK を用いてモデルをデプロイ\n",
    "SageMaker SDK でモデルをデプロイするには、[Model](https://sagemaker.readthedocs.io/en/stable/api/inference/model.html#sagemaker.model.Model) クラスでモデルを定義する必要がある  \n",
    "今回は AWS が管理・公開している PyTorch のコンテナを使うため、`Model` を継承した [PyTorchModel](https://sagemaker.readthedocs.io/en/stable/frameworks/pytorch/sagemaker.pytorch.html#sagemaker.pytorch.model.PyTorchModel) クラスを使用する。  \n",
    "`PyTorchModel` では、モデルにつける任意の名前、使用するモデルの S3 の URI、フレームワークや Python のバージョン、推論コードなどを指定する。\n",
    "PyTorchModel でインスタンスを生成したら、[deploy](https://sagemaker.readthedocs.io/en/stable/api/inference/model.html#sagemaker.model.Model.deploy) メソッドでモデルをデプロイできる。デプロイ時はインスタンスタイプと台数、エンドポイントにつける任意の名前を設定する。"
   ]
  },
  {
   "cell_type": "code",
   "execution_count": 15,
   "id": "5541698d-c80a-4761-8b8a-0ae42e9cf2d4",
   "metadata": {},
   "outputs": [],
   "source": [
    "# 名前の設定\n",
    "model_name = 'PyTorchModel'\n",
    "endpoint_name = model_name + 'Endpoint'"
   ]
  },
  {
   "cell_type": "code",
   "execution_count": 16,
   "id": "0e480084-ddc6-4b17-99d5-7db2b73b1a8d",
   "metadata": {},
   "outputs": [
    {
     "name": "stderr",
     "output_type": "stream",
     "text": [
      "INFO:sagemaker:Repacking model artifact (s3://sagemaker-us-east-1-222426255091/hello_sagemaker_inference/model.tar.gz), script artifact (./source/), and dependencies ([]) into single tar.gz file located at s3://sagemaker-us-east-1-222426255091/PyTorchModel/model.tar.gz. This may take some time depending on model size...\n",
      "INFO:sagemaker:Creating model with name: PyTorchModel\n",
      "INFO:sagemaker:Creating endpoint-config with name PyTorchModel-2024-02-29-00-35-56-331\n",
      "INFO:sagemaker:Creating endpoint with name PyTorchModel-2024-02-29-00-35-56-331\n"
     ]
    },
    {
     "name": "stdout",
     "output_type": "stream",
     "text": [
      "-------!"
     ]
    }
   ],
   "source": [
    "# モデルとコンテナの指定 (About 5 min)\n",
    "pytorch_model = PyTorchModel(\n",
    "    name = model_name,\n",
    "    model_data=model_s3_uri,\n",
    "    role= role,\n",
    "    framework_version = '1.11.0',\n",
    "    py_version='py38',\n",
    "    entry_point='inference.py',\n",
    "    source_dir=f'./{source_dir}/'\n",
    ")\n",
    "pytorch_predictor = pytorch_model.deploy(\n",
    "    initial_instance_count=1,\n",
    "    instance_type='ml.m5.large',\n",
    "    enpoint_name=endpoint_name\n",
    ")"
   ]
  },
  {
   "cell_type": "code",
   "execution_count": 17,
   "id": "014c421f-2ef1-411b-9007-d4f19fe7ce93",
   "metadata": {},
   "outputs": [
    {
     "name": "stdout",
     "output_type": "stream",
     "text": [
      "Hello my great machine learning model for the 1st time <class 'numpy.ndarray'>\n"
     ]
    }
   ],
   "source": [
    "response = pytorch_predictor.predict(1)\n",
    "print(response)"
   ]
  },
  {
   "cell_type": "code",
   "execution_count": 19,
   "id": "584712b5-07b1-401e-b4b0-7580fc88cd86",
   "metadata": {},
   "outputs": [
    {
     "name": "stderr",
     "output_type": "stream",
     "text": [
      "INFO:sagemaker:Deleting endpoint configuration with name: PyTorchModel-2024-02-29-00-35-56-331\n",
      "INFO:sagemaker:Deleting endpoint with name: PyTorchModel-2024-02-29-00-35-56-331\n",
      "INFO:sagemaker:Deleting model with name: PyTorchModel\n"
     ]
    }
   ],
   "source": [
    "# endpointとモデルを削除\n",
    "pytorch_predictor.delete_endpoint()\n",
    "pytorch_model.delete_model()"
   ]
  },
  {
   "cell_type": "markdown",
   "id": "14cd37fe-4d4f-4394-94b6-4cc5f7fc6361",
   "metadata": {},
   "source": [
    "## 全体 Questions!! (Endpoint のデプロイが完了するまで)\n",
    "\n",
    "***Q1. 複数の S3 データソースをトレーニングインスタンスに持ち込む場合はどうすればいいの？***\n",
    "\n",
    "A. `SM_CHANNEL_{CHANNEL 名}` という環境変数が示すディレクトリに配置される。  \n",
    "CHANNEL 名についてはユーザが `fit` メソッドを呼ぶときに決められる。  \n",
    "`SM_CHANNELS` という環境変数に CHANNEL 名一覧が格納されるので、どのような CHANNEL 名が来てもいいようにコード側で対応しておく。\n",
    "\n",
    "【Traiing Job の定義と実行】\n",
    "```\n",
    "from sagemaker.tensorflow import TensorFlow\n",
    "estimator = TensorFlow(\n",
    "    entry_point='./src/calc.py',\n",
    "    py_version='py38', \n",
    "    framework_version='2.7.1',\n",
    "    instance_count=1,\n",
    "    instance_type='local',\n",
    "    role=sagemaker.get_execution_role()\n",
    ")\n",
    "estimator.fit({\n",
    "    'folder1_data':folder1_input_s3_uri,\n",
    "    'folder2_data':folder2_input_s3_uri,\n",
    "})\n",
    "```\n",
    "\n",
    "【calc.py】\n",
    "```\n",
    "import os, json\n",
    "channels = os.environ.get('SM_CHANNELS')\n",
    "channels_list = json.loads(channels)\n",
    "for channel in channels_list:\n",
    "    input_dir = os.environ.get('SM_CHANNEL_' + channel.upper())\n",
    "    for file_name in os.listdir(input_dir):\n",
    "        input_txt_path = os.path.join(input_dir,file_name)\n",
    "        with open(input_txt_path,'rt') as f:\n",
    "            input_text_lines = f.read()\n",
    "        for input_text_line in input_text_lines.split('\\n'):\n",
    "            print(eval(input_text_line))\n",
    "exit()\n",
    "```\n",
    "\n",
    "***Q2. SageMaker SDK じゃなくて Boto3 で Endpoint を作成できますか。***\n",
    "\n",
    "A. もちろんできます。以下のモデル作成、エンドポイントコンフィグ作成、エンドポイント作成の順で実現可能です。\n",
    "1. [create_model](https://boto3.amazonaws.com/v1/documentation/api/latest/reference/services/sagemaker.html#SageMaker.Client.create_model) でモデルと推論環境（推論コードやコンテナイメージ、環境変数の設定）をパッケージ化した Model を作成する\n",
    "2. [create_endpoint_config](https://boto3.amazonaws.com/v1/documentation/api/latest/reference/services/sagemaker.html#SageMaker.Client.create_endpoint_config) で使用する Model や推論に使うコンピューティングリソース（インスタンスタイプ、台数など）や負荷の配分を設定する\n",
    "3. [create_endpoint](https://boto3.amazonaws.com/v1/documentation/api/latest/reference/services/sagemaker.html#SageMaker.Client.create_endpoint) で EndpointConfig で設定した内容をデプロイする\n",
    " \n",
    "※ 推論エンドポイントに推論データをリクエストする環境 (AWS Lambda など) には入っていないことが多い（boto3でやることが多い）。また、推論エンドポイント立ち上げもパイプラインに組み込む際は SageMaker SDK を使わない環境もありえる。"
   ]
  },
  {
   "cell_type": "markdown",
   "id": "c5eb9aaa-50a2-4f72-aa6b-7894d0213613",
   "metadata": {},
   "source": [
    "# 【お持ち帰り用デザート（肉）】SageMaker Training と Inference の応用編\n",
    "以下の Git repo をご覧ください。\n",
    "- https://github.com/SeongHaedu/SageMaker-training-inference-handson"
   ]
  },
  {
   "cell_type": "code",
   "execution_count": null,
   "id": "0515f82d-73ee-43bf-8243-6b9a7cf492a7",
   "metadata": {},
   "outputs": [],
   "source": []
  }
 ],
 "metadata": {
  "instance_type": "ml.t3.medium",
  "kernelspec": {
   "display_name": "Python 3 (ipykernel)",
   "language": "python",
   "name": "python3"
  },
  "language_info": {
   "codemirror_mode": {
    "name": "ipython",
    "version": 3
   },
   "file_extension": ".py",
   "mimetype": "text/x-python",
   "name": "python",
   "nbconvert_exporter": "python",
   "pygments_lexer": "ipython3",
   "version": "3.10.13"
  }
 },
 "nbformat": 4,
 "nbformat_minor": 5
}
