{
 "cells": [
  {
   "cell_type": "markdown",
   "id": "acac2e8e",
   "metadata": {},
   "source": [
    "# タイトル: SageMaker Training で最大級に高価な足し算と引き算を行って、Inference で仮想モデルをデプロイする🐱"
   ]
  },
  {
   "cell_type": "markdown",
   "id": "3dfbe6b5-7c3e-464a-b7f9-60ba6440bf57",
   "metadata": {},
   "source": [
    "## 本ハンズオンのお品書き\n",
    "- 【前菜】SageMaker Training と Inference の全体像\n",
    "- 【肉 1】SageMaker Training - 座学編\n",
    "- 【肉 2】SageMaker Training - ハンズオン編\n",
    "- 【魚 1】SageMaker Inference - 座学編\n",
    "- 【魚 2】SageMaker Inference - ハンズオン編\n",
    "- 【お持ち帰り用デザート（肉）】SageMaker Training と Inference の応用編\n",
    "\n",
    "***※ SageMaker の機能を表現するために一部過剰な表現が含まれていることがあります。予めご了承ください。***"
   ]
  },
  {
   "cell_type": "markdown",
   "id": "410288c7-faf5-4b33-83cb-8be653939a92",
   "metadata": {},
   "source": [
    "# 【前菜】SageMaker Training と Inference の全体像"
   ]
  },
  {
   "cell_type": "markdown",
   "id": "572c35d7-e974-484d-bedd-12dc42b72412",
   "metadata": {},
   "source": [
    "![overview-training](./images/SageMaker-whole-image.png)"
   ]
  },
  {
   "cell_type": "markdown",
   "id": "decb20b6",
   "metadata": {},
   "source": [
    "# 【肉 1】SageMaker Training - 座学編"
   ]
  },
  {
   "cell_type": "markdown",
   "id": "5b73fc4d",
   "metadata": {},
   "source": [
    "## 全体のイメージ\n",
    "\n",
    "![overview-training](./images/overview-training.png)\n",
    "\n",
    "SageMaker Training の機能とは、ユーザーが用意した「コード」と「データ」を指定した「コンピューティングリソース」と「環境」で実行し、「実行履歴を自動記録」して、「アーティファクトを自動保存」する機能。"
   ]
  },
  {
   "cell_type": "markdown",
   "id": "4efc11f2",
   "metadata": {},
   "source": [
    "## 構成要素\n",
    "\n",
    "* 学習データ\n",
    "* 学習コード\n",
    "* DL/ML 実行環境 (TensorFlow、PYTORCH、mxnet、Hugging Face、または scikit-learn など)"
   ]
  },
  {
   "cell_type": "markdown",
   "id": "1cee9cad",
   "metadata": {},
   "source": [
    "## SageMaker Python SDK\n",
    "* SageMaker 上でモデルの学習やデプロイなどを行うためのオープンソースライブラリ\n",
    "* データサイエンティストが簡単に AWS を使えるよう、SageMaker とその周辺のサービスに絞った高レベル API を提供\n",
    "\n",
    "※ SageMaker 自体は CLI や Python SDK (Boto3) などからも利用可能"
   ]
  },
  {
   "cell_type": "markdown",
   "id": "168904a6",
   "metadata": {},
   "source": [
    "## SDK でトレーニングを開始する準備"
   ]
  },
  {
   "cell_type": "markdown",
   "id": "9949da0c",
   "metadata": {},
   "source": [
    "![prepare-training](./images/prepare-training.png)\n",
    "\n",
    "(必要に応じて) トレーニングデータとトレーニング用のコンテナイメージを用意し、それぞれ S3 と ECR に格納する。"
   ]
  },
  {
   "cell_type": "markdown",
   "id": "b6fa1399",
   "metadata": {},
   "source": [
    "## SDK でトレーニングの開始時の全体像"
   ]
  },
  {
   "cell_type": "markdown",
   "id": "4b5cdded",
   "metadata": {},
   "source": [
    "![start-training](./images/start-training.png)\n",
    "\n",
    "* SDK の API 経由でトレーニングを定義して、トレーニングを開始する。\n",
    "* 各フレームワークごとにジョブ定義用の estimator を利用して、使用するコードやバージョンを定義する。"
   ]
  },
  {
   "cell_type": "markdown",
   "id": "41ff7795",
   "metadata": {},
   "source": [
    "## トレーニング完了時の全体像"
   ]
  },
  {
   "cell_type": "markdown",
   "id": "b0c054a7",
   "metadata": {},
   "source": [
    "![completed-training](./images/completed-training.png)\n",
    "\n",
    "* トレーニング完了時にアーティファクト (コードやモデルなどの総称) が S3 に自動で転送される。\n",
    "* ジョブ終了時に自動でインスタンスが削除され課金が停止する。\n",
    "* 実行中のメトリクス/標準出力は CloudWatch に自動で転送される。"
   ]
  },
  {
   "cell_type": "markdown",
   "id": "f1956040",
   "metadata": {},
   "source": [
    "# 【肉 2】SageMaker Training - ハンズオン編"
   ]
  },
  {
   "cell_type": "markdown",
   "id": "d92539de",
   "metadata": {},
   "source": [
    "## 1-1. SageMaker SDK のバージョンを最新にしておく"
   ]
  },
  {
   "cell_type": "code",
   "execution_count": null,
   "id": "5b151364",
   "metadata": {
    "scrolled": true,
    "tags": []
   },
   "outputs": [],
   "source": [
    "pip install sagemaker -U"
   ]
  },
  {
   "cell_type": "code",
   "execution_count": null,
   "id": "d3963dd2",
   "metadata": {
    "tags": []
   },
   "outputs": [],
   "source": [
    "import sagemaker\n",
    "print(sagemaker.__version__)"
   ]
  },
  {
   "cell_type": "markdown",
   "id": "1d2066e4",
   "metadata": {},
   "source": [
    "## 1-2. データをトレーニングインスタンスに持ち込む\n",
    "### 1-2-1. 単一のファイルを持ち込む\n",
    "#### 持ち込むデータの確認\n",
    "算数の計算問題を記載したデータを用意"
   ]
  },
  {
   "cell_type": "code",
   "execution_count": null,
   "id": "8db4d553",
   "metadata": {
    "tags": []
   },
   "outputs": [],
   "source": [
    "with open('./data/1-2-1/calc.txt','rt') as f:\n",
    "    input_text_lines = f.read()\n",
    "print('---データの確認---')\n",
    "print(input_text_lines)\n",
    "print('---計算結果---')\n",
    "for input_text in input_text_lines.split('\\n'):\n",
    "    print(eval(input_text))"
   ]
  },
  {
   "cell_type": "markdown",
   "id": "74ff0117",
   "metadata": {},
   "source": [
    "#### 持ち込むデータを S3 にアップロード\n",
    "`upload_data` メソッドを使うと S3 にデータをアップロードできる。返り値は S3 の URI"
   ]
  },
  {
   "cell_type": "code",
   "execution_count": null,
   "id": "7cd53438",
   "metadata": {},
   "outputs": [],
   "source": [
    "# S3 にデータをアップロード\n",
    "import sagemaker\n",
    "\n",
    "input_s3_uri = sagemaker.session.Session().upload_data(\n",
    "    path='./data/1-2-1/calc.txt', \n",
    "    bucket=sagemaker.session.Session().default_bucket(), \n",
    "    key_prefix='training/1-2-1'\n",
    ")\n",
    "print(input_s3_uri)"
   ]
  },
  {
   "cell_type": "markdown",
   "id": "da82feb8",
   "metadata": {},
   "source": [
    "#### 用意したコードを確認 (BYOA)\n",
    "* トレーニングインスタンスに連携するデータはデフォルトだと環境変数 `SM_CHANNEL_TRAINING`(=`/opt/ml/input/training`) の値が示すディレクトリに格納される\n",
    "* SM_CHANNEL_TRAINING にあるファイルを読み込み、1 行ずつデータを読み込んで文字列を数式として解釈して演算するコードを準備"
   ]
  },
  {
   "cell_type": "code",
   "execution_count": null,
   "id": "03bb28e3",
   "metadata": {},
   "outputs": [],
   "source": [
    "!pygmentize ./src/1-2-1/calc.py"
   ]
  },
  {
   "cell_type": "markdown",
   "id": "4848683c",
   "metadata": {},
   "source": [
    "### Containers!!\n",
    "AWS のマネジメントコンテナ(AWS Deep Learning Container / SageMaker Scikit-learn Container) で Training Job を実行する\n",
    "各マネジメントコンテナ用のクラスが SageMaker SDK に準備されていて、その class をインスタンス化( `estimator` 変数でインスタンス化する)する際に引数でバージョンを指定することで利用するコンテナが確定する\n",
    "\n",
    "|  class  |  コンテナ  | コンテナ詳細 | \n",
    "| ---- | ---- | ---- | \n",
    "|  [`sagemaker.tensorflow.TensorFlow`](https://sagemaker.readthedocs.io/en/stable/frameworks/tensorflow/sagemaker.tensorflow.html#sagemaker.tensorflow.estimator.TensorFlow)  |  TensorFlow | [利用可能なバージョン一覧及びソース](https://github.com/aws/deep-learning-containers/blob/master/available_images.md) | \n",
    "|  [`sagemaker.pytorch.PyTorch`](https://sagemaker.readthedocs.io/en/stable/frameworks/pytorch/sagemaker.pytorch.html#sagemaker.pytorch.estimator.PyTorch)  |  PyTorch  |^|\n",
    "|  [`sagemaker.pytorch.MXNet`](https://sagemaker.readthedocs.io/en/stable/frameworks/mxnet/sagemaker.mxnet.html#sagemaker.mxnet.estimator.MXNet)  |  MXNet  |^|\n",
    "|  [`sagemaker.pytorch.HuggingFace`](https://sagemaker.readthedocs.io/en/stable/frameworks/huggingface/sagemaker.huggingface.html#sagemaker.huggingface.HuggingFace)  |  HuggingFace  |^|\n",
    "|  [`sagemaker.sklearn.SKLearn`](https://sagemaker.readthedocs.io/en/stable/frameworks/sklearn/sagemaker.sklearn.html)  |  scikit-learn  |[コンテナソース](https://github.com/aws/sagemaker-scikit-learn-container)|\n"
   ]
  },
  {
   "cell_type": "markdown",
   "id": "5d29ee76",
   "metadata": {},
   "source": [
    "### TensorFlow コンテナで実行\n",
    "各フレームワーク(TensorFlow, PyTorch, MXNet, HuggingFace, scikit-learn) 毎に用意された estimator class で ジョブを定義し、estimator インスタンスを生成する。\n",
    "* `entry_point` 引数に用意したコードを指定することで使える\n",
    "* フレームワーク毎のクラス + py_version + framework_version + instance_type で使用するコンテナイメージが確定する。\n",
    "  * 以下の場合は python3.8 が入った TensorFlow が 2.7.1 の CPU に最適化されたコンテナイメージ  \n",
    "    763104351884.dkr.ecr.{REGION}.amazonaws.com/tensorflow-training:2.7.1-cpu-py38\n",
    "  * estimator インスタンスの `training_image_uri` メソッドでコンテナイメージの URI を確認できる\n",
    "* estimator 生成時に `image_uri` 引数を指定することで直接コンテナイメージを指定することもできる"
   ]
  },
  {
   "cell_type": "code",
   "execution_count": null,
   "id": "c38f6f3d",
   "metadata": {},
   "outputs": [],
   "source": [
    "# TensorFlow コンテナで Training Job (About 5 min)\n",
    "from sagemaker.tensorflow import TensorFlow\n",
    "\n",
    "estimator = TensorFlow(\n",
    "    entry_point='./src/1-2-1/calc.py',\n",
    "    py_version='py38', \n",
    "    framework_version='2.7.1',\n",
    "    instance_count=1,\n",
    "    instance_type='ml.m5.xlarge',\n",
    "    role=sagemaker.get_execution_role()\n",
    ")\n",
    "print(f'トレーニングに使用するコンテナイメージは {estimator.training_image_uri()} です')\n",
    "estimator.fit(input_s3_uri)"
   ]
  },
  {
   "cell_type": "markdown",
   "id": "48048f4e",
   "metadata": {},
   "source": [
    "### PyTorch コンテナで実行\n",
    "他のフレームワークでも使い方は全く一緒"
   ]
  },
  {
   "cell_type": "code",
   "execution_count": null,
   "id": "c1abfa27",
   "metadata": {
    "tags": []
   },
   "outputs": [],
   "source": [
    "# PyTorch コンテナで Training Job\n",
    "from sagemaker.pytorch import PyTorch\n",
    "estimator = PyTorch(\n",
    "    entry_point='./src/1-2-1/calc.py',\n",
    "    py_version='py38', \n",
    "    framework_version='1.9.1',\n",
    "    instance_count=1,\n",
    "    instance_type='ml.m5.xlarge',\n",
    "    role=sagemaker.get_execution_role()\n",
    ")\n",
    "estimator.fit(input_s3_uri)"
   ]
  },
  {
   "cell_type": "markdown",
   "id": "48543aa8",
   "metadata": {},
   "source": [
    "### MXNet コンテナで実行"
   ]
  },
  {
   "cell_type": "code",
   "execution_count": null,
   "id": "e73763e7",
   "metadata": {
    "scrolled": true
   },
   "outputs": [],
   "source": [
    "# MXNet コンテナで Training Job\n",
    "from sagemaker.mxnet import MXNet\n",
    "estimator = MXNet(\n",
    "    entry_point='./src/1-2-1/calc.py',\n",
    "    py_version='py37', \n",
    "    framework_version='1.8.0',\n",
    "    instance_count=1,\n",
    "    instance_type='ml.m4.xlarge',\n",
    "    role=sagemaker.get_execution_role()\n",
    ")\n",
    "estimator.fit(input_s3_uri)"
   ]
  },
  {
   "cell_type": "markdown",
   "id": "e76cb185",
   "metadata": {},
   "source": [
    "### HuggingFace コンテナで実行"
   ]
  },
  {
   "cell_type": "code",
   "execution_count": null,
   "id": "23bda80e",
   "metadata": {
    "scrolled": true
   },
   "outputs": [],
   "source": [
    "# HuggingFace コンテナで　Training Job\n",
    "# 注意 : GPU のクオータ緩和をしないと使えません\n",
    "# from sagemaker.huggingface import HuggingFace\n",
    "# estimator = HuggingFace(\n",
    "#     entry_point='./src/1-2-1/calc.py',\n",
    "#     py_version='py37', \n",
    "#     transformers_version='4.6.1',\n",
    "#     tensorflow_version='2.4.1',\n",
    "#     instance_count=1,\n",
    "#     instance_type='ml.g4dn.xlarge',\n",
    "#     role=sagemaker.get_execution_role()\n",
    "# )\n",
    "# estimator.fit(input_s3_uri)"
   ]
  },
  {
   "cell_type": "markdown",
   "id": "70f25995",
   "metadata": {},
   "source": [
    "### scikit-learn コンテナで実行"
   ]
  },
  {
   "cell_type": "code",
   "execution_count": null,
   "id": "929b623a",
   "metadata": {
    "scrolled": true
   },
   "outputs": [],
   "source": [
    "# scikit-learn コンテナで Training Job\n",
    "from sagemaker.sklearn import SKLearn\n",
    "estimator = SKLearn(\n",
    "    entry_point='./src/1-2-1/calc.py',\n",
    "    py_version='py3', \n",
    "    framework_version='0.23-1',\n",
    "    instance_count=1,\n",
    "    instance_type='ml.c5.xlarge',\n",
    "    role=sagemaker.get_execution_role()\n",
    ")\n",
    "estimator.fit(input_s3_uri)"
   ]
  },
  {
   "cell_type": "markdown",
   "id": "9fd75090",
   "metadata": {},
   "source": [
    "### ジョブの実行結果確認\n",
    "使用したコンテナイメージ URI や実行時間、使ったコードのありかなどが記録される"
   ]
  },
  {
   "cell_type": "code",
   "execution_count": null,
   "id": "8e96be4c",
   "metadata": {
    "scrolled": true,
    "tags": []
   },
   "outputs": [],
   "source": [
    "# ジョブ定義や実行結果を確認\n",
    "estimator.latest_training_job.describe()"
   ]
  },
  {
   "cell_type": "markdown",
   "id": "12605d1a",
   "metadata": {},
   "source": [
    "#### 演習 1-2-1\n",
    "ファイルを適宜書き換えて、トレーニングの定義および開始のコードを作成してみましょう！（instance_type は local でも構いませんし、ml. 系列のインスタンスタイプを指定しても構いません）"
   ]
  },
  {
   "cell_type": "markdown",
   "id": "6b71a367",
   "metadata": {},
   "source": [
    "##### 書き換えたい方向け"
   ]
  },
  {
   "cell_type": "code",
   "execution_count": null,
   "id": "50510fc2",
   "metadata": {},
   "outputs": [],
   "source": [
    "# text = \"\"\"3+4\n",
    "# 4-2\n",
    "# 5*1\n",
    "# 6/2\"\"\"\n",
    "# with open('./data/1-2-1/calc.txt','wt') as f:\n",
    "#     f.write(text)"
   ]
  },
  {
   "cell_type": "code",
   "execution_count": null,
   "id": "0c124230",
   "metadata": {
    "scrolled": true
   },
   "outputs": [],
   "source": [
    "# トレーニングジョブの実行\n",
    "import sagemaker\n",
    "from sagemaker.tensorflow import TensorFlow\n",
    "\n",
    "## 以下はサンプルなので適宜変更してください。時間が限られている関係で fit() は呼び出しません。\n",
    "input_s3_uri = sagemaker.session.Session().upload_data(・・・)\n",
    "estimator = TensorFlow(・・・)\n",
    "# estimator.fit(・・・)"
   ]
  },
  {
   "cell_type": "markdown",
   "id": "bfdfce5f-cf29-4261-ba5e-3354477b7943",
   "metadata": {},
   "source": [
    "# 【魚 1】SageMaker Inference - 座学編"
   ]
  },
  {
   "cell_type": "markdown",
   "id": "003471ac-3447-42f6-84a7-ca4c8652cc62",
   "metadata": {},
   "source": [
    "## 全体のイメージ\n",
    "\n",
    "![inference-overview](./images/inference-overview.png)"
   ]
  },
  {
   "cell_type": "markdown",
   "id": "f0cd990c-ab9d-4274-8320-2a00a9a959f0",
   "metadata": {},
   "source": [
    "## 推論コードのお作法\n",
    "\n",
    "![code-rule-inference](./images/code-rule-inference.png)"
   ]
  },
  {
   "cell_type": "markdown",
   "id": "1b1c0c13-de9e-45ff-9789-da1ebc5fa0a5",
   "metadata": {},
   "source": [
    "# 【魚 2】SageMaker Inference - ハンズオン編\n",
    "Training Job を実行後、例えば以下のコードでデプロイまで実行できてしまいますが、今回のハンズオンでは仮想モデルを作成して Inference の Realtime-Endpoint の作成を行っていきます。\n",
    "```\n",
    "input_s3_uri = sagemaker.session.Session().upload_data(・・・)\n",
    "estimator = TensorFlow(・・・)\n",
    "estimator.fit(・・・)\n",
    "estimator.deploy(・・・)\n",
    "```"
   ]
  },
  {
   "cell_type": "markdown",
   "id": "1a808ed7-87e4-4c78-bb59-7d4a3546ebc9",
   "metadata": {},
   "source": [
    "## 準備"
   ]
  },
  {
   "cell_type": "markdown",
   "id": "e1865c8f-cba6-43de-a84b-b11bd9aea5c2",
   "metadata": {},
   "source": [
    "### モジュールのインポート、定数の設定、boto3 クライアントの設定、ロールの取得"
   ]
  },
  {
   "cell_type": "code",
   "execution_count": null,
   "id": "dba1725f-f6fd-4e5e-889e-7d7ddeb1122b",
   "metadata": {},
   "outputs": [],
   "source": [
    "import sagemaker\n",
    "from typing import Final\n",
    "from sagemaker.pytorch import PyTorchModel\n",
    "from sagemaker.async_inference import AsyncInferenceConfig\n",
    "import os, boto3, json, numpy as np\n",
    "from io import BytesIO\n",
    "from time import sleep\n",
    "from uuid import uuid4\n",
    "smr_client = boto3.client('sagemaker-runtime')\n",
    "sm_client = boto3.client('sagemaker')\n",
    "s3_client = boto3.client('s3')\n",
    "endpoint_inservice_waiter = sm_client.get_waiter('endpoint_in_service')\n",
    "role = sagemaker.get_execution_role()\n",
    "region = sagemaker.Session().boto_region_name\n",
    "bucket = sagemaker.Session().default_bucket()"
   ]
  },
  {
   "cell_type": "markdown",
   "id": "78316d7b-2796-478c-b0d2-998f363061aa",
   "metadata": {},
   "source": [
    "### モデルと推論コードを保存するディレクトリを作成"
   ]
  },
  {
   "cell_type": "code",
   "execution_count": null,
   "id": "1ffb9cb8-d55d-47dc-9b9b-8afeba6dd28d",
   "metadata": {},
   "outputs": [],
   "source": [
    "model_dir = 'model'\n",
    "!if [ -d ./{model_dir} ]; then rm -rf ./{model_dir}/;fi\n",
    "!mkdir ./{model_dir}/\n",
    "\n",
    "source_dir = 'source'\n",
    "!if [ -d ./{source_dir} ]; then rm -rf ./{source_dir}/;fi\n",
    "!mkdir ./{source_dir}/"
   ]
  },
  {
   "cell_type": "markdown",
   "id": "083df699-32d9-4dd6-9ee9-cb806310e530",
   "metadata": {},
   "source": [
    "### モデル相当のテキストファイルを `tar.gz` で固めて S3 にアップロードする\n",
    "* SageMaker で推論する場合は機械学習のモデルを `model.tar.gz` に固めておく必要がある\n",
    "    * SageMaker Training を使ってモデルを保存した場合は自動で tar.gz になるが、このハンズオンでは Training Job を使わないため、手動で tar.gz に固める\n",
    "    * 機械学習のモデルと言ったが、用意したファイルを読み込むコードを書き、その読み込んだデータを使って処理を行うだけなので必ずしも機械学習のモデルである必要はない\n",
    "    * このチュートリアルでは Hello my great machine learning model と書かれたテキストファイル(`my_model.txt`)を作成して、`tar.gz` に固める\n",
    "* `model.tar.gz` を推論環境で使うには予め S3 にアップロードしておく必要がある"
   ]
  },
  {
   "cell_type": "markdown",
   "id": "b742783a-7fff-469b-9919-cd163d6d0036",
   "metadata": {},
   "source": [
    "#### `my_model.txt` 作成"
   ]
  },
  {
   "cell_type": "code",
   "execution_count": null,
   "id": "6b16d924-f139-4435-9a89-e4f1391d1d3d",
   "metadata": {},
   "outputs": [],
   "source": [
    "%%writefile ./{model_dir}/my_model.txt\n",
    "Hello my great machine learning model"
   ]
  },
  {
   "cell_type": "markdown",
   "id": "eb7c2045-838d-44a8-afb9-16d9af11ad1b",
   "metadata": {},
   "source": [
    "#### `my_model.txt` を `model.tar.gz` に固める"
   ]
  },
  {
   "cell_type": "code",
   "execution_count": null,
   "id": "dd700535-8140-471f-a03f-51751064ff98",
   "metadata": {},
   "outputs": [],
   "source": [
    "%cd {model_dir}\n",
    "!tar zcvf model.tar.gz ./*\n",
    "%cd .."
   ]
  },
  {
   "cell_type": "markdown",
   "id": "8dea7abb-9e2e-4465-afff-e1b88cee0f0b",
   "metadata": {},
   "source": [
    "#### `model.tar.gz` を S3 にアップロード"
   ]
  },
  {
   "cell_type": "code",
   "execution_count": null,
   "id": "2026bdf8-f5f2-439b-9579-e5dc65b5f3f7",
   "metadata": {},
   "outputs": [],
   "source": [
    "model_s3_uri = sagemaker.session.Session().upload_data(\n",
    "    f'./{model_dir}/model.tar.gz',\n",
    "    key_prefix = 'hello_sagemaker_inference'\n",
    ")\n",
    "print(model_s3_uri)"
   ]
  },
  {
   "cell_type": "markdown",
   "id": "fc7d24db-c761-4a15-8027-3b60d076a58e",
   "metadata": {},
   "source": [
    "### 推論コードを作成する\n",
    "* 最低限 `model_fn` と `predict_fn` が必要\n",
    "* `model_fn` は `model.tar.gz` に固めたモデルを読み込むコード\n",
    "  * 第一引数に `model.tar.gz` を展開したディレクトリが入る\n",
    "  * 返り値にモデルを返すと、`predict_fn` の第二引数に入れられる\n",
    "* `predict_fn` は推論コード\n",
    "  * 第一引数にリクエスト(推論したいデータ)が入る\n",
    "  * 第二引数に model_fn の返り値が入る\n",
    "  * 推論結果を返り値に入れる"
   ]
  },
  {
   "cell_type": "code",
   "execution_count": null,
   "id": "1bdeb15f-7a52-4aa3-b88d-849fab17b2aa",
   "metadata": {},
   "outputs": [],
   "source": [
    "%%writefile ./{source_dir}/inference.py\n",
    "import os\n",
    "def model_fn(model_dir):\n",
    "    with open(os.path.join(model_dir,'my_model.txt')) as f:\n",
    "        model = f.read()[:-1] # 改行を除外\n",
    "    return model\n",
    "def predict_fn(input_data, model):\n",
    "    response = f'{model} for the {input_data}st time'\n",
    "    return response"
   ]
  },
  {
   "cell_type": "markdown",
   "id": "7c95c410-9f67-4d85-bf2c-b36565847397",
   "metadata": {},
   "source": [
    "## SageMaker SDK でモデルをデプロイしてリアルタイム推論\n",
    "### SageMaker SDK を用いてモデルをデプロイ\n",
    "SageMaker SDK でモデルをデプロイするには、[Model](https://sagemaker.readthedocs.io/en/stable/api/inference/model.html#sagemaker.model.Model) クラスでモデルを定義する必要がある  \n",
    "今回は AWS が管理・公開している PyTorch のコンテナを使うため、`Model` を継承した [PyTorchModel](https://sagemaker.readthedocs.io/en/stable/frameworks/pytorch/sagemaker.pytorch.html#sagemaker.pytorch.model.PyTorchModel) クラスを使用する。  \n",
    "`PyTorchModel` では、モデルにつける任意の名前、使用するモデルの S3 の URI、フレームワークや Python のバージョン、推論コードなどを指定する。\n",
    "PyTorchModel でインスタンスを生成したら、[deploy](https://sagemaker.readthedocs.io/en/stable/api/inference/model.html#sagemaker.model.Model.deploy) メソッドでモデルをデプロイできる。デプロイ時はインスタンスタイプと台数、エンドポイントにつける任意の名前を設定する。"
   ]
  },
  {
   "cell_type": "code",
   "execution_count": null,
   "id": "5541698d-c80a-4761-8b8a-0ae42e9cf2d4",
   "metadata": {},
   "outputs": [],
   "source": [
    "# 名前の設定\n",
    "model_name = 'PyTorchModel'\n",
    "endpoint_name = model_name + 'Endpoint'"
   ]
  },
  {
   "cell_type": "code",
   "execution_count": null,
   "id": "0e480084-ddc6-4b17-99d5-7db2b73b1a8d",
   "metadata": {},
   "outputs": [],
   "source": [
    "# モデルとコンテナの指定 (About 5 min)\n",
    "pytorch_model = PyTorchModel(\n",
    "    name = model_name,\n",
    "    model_data=model_s3_uri,\n",
    "    role= role,\n",
    "    framework_version = '1.11.0',\n",
    "    py_version='py38',\n",
    "    entry_point='inference.py',\n",
    "    source_dir=f'./{source_dir}/'\n",
    ")\n",
    "pytorch_predictor = pytorch_model.deploy(\n",
    "    initial_instance_count=1,\n",
    "    instance_type='ml.m5.large',\n",
    "    enpoint_name=endpoint_name\n",
    ")"
   ]
  },
  {
   "cell_type": "code",
   "execution_count": null,
   "id": "014c421f-2ef1-411b-9007-d4f19fe7ce93",
   "metadata": {},
   "outputs": [],
   "source": [
    "response = pytorch_predictor.predict(1)\n",
    "print(response)"
   ]
  },
  {
   "cell_type": "code",
   "execution_count": null,
   "id": "584712b5-07b1-401e-b4b0-7580fc88cd86",
   "metadata": {},
   "outputs": [],
   "source": [
    "# endpointとモデルを削除\n",
    "pytorch_predictor.delete_endpoint()\n",
    "pytorch_model.delete_model()"
   ]
  },
  {
   "cell_type": "markdown",
   "id": "14cd37fe-4d4f-4394-94b6-4cc5f7fc6361",
   "metadata": {},
   "source": [
    "## 全体 Questions!! (Endpoint のデプロイが完了するまで)\n",
    "\n",
    "***Q1. 複数の S3 データソースをトレーニングインスタンスに持ち込む場合はどうすればいいの？***\n",
    "\n",
    "A. `SM_CHANNEL_{CHANNEL 名}` という環境変数が示すディレクトリに配置される。  \n",
    "CHANNEL 名についてはユーザが `fit` メソッドを呼ぶときに決められる。  \n",
    "`SM_CHANNELS` という環境変数に CHANNEL 名一覧が格納されるので、どのような CHANNEL 名が来てもいいようにコード側で対応しておく。\n",
    "\n",
    "【Traiing Job の定義と実行】\n",
    "```\n",
    "from sagemaker.tensorflow import TensorFlow\n",
    "estimator = TensorFlow(\n",
    "    entry_point='./src/calc.py',\n",
    "    py_version='py38', \n",
    "    framework_version='2.7.1',\n",
    "    instance_count=1,\n",
    "    instance_type='local',\n",
    "    role=sagemaker.get_execution_role()\n",
    ")\n",
    "estimator.fit({\n",
    "    'folder1_data':folder1_input_s3_uri,\n",
    "    'folder2_data':folder2_input_s3_uri,\n",
    "})\n",
    "```\n",
    "\n",
    "【calc.py】\n",
    "```\n",
    "import os, json\n",
    "channels = os.environ.get('SM_CHANNELS')\n",
    "channels_list = json.loads(channels)\n",
    "for channel in channels_list:\n",
    "    input_dir = os.environ.get('SM_CHANNEL_' + channel.upper())\n",
    "    for file_name in os.listdir(input_dir):\n",
    "        input_txt_path = os.path.join(input_dir,file_name)\n",
    "        with open(input_txt_path,'rt') as f:\n",
    "            input_text_lines = f.read()\n",
    "        for input_text_line in input_text_lines.split('\\n'):\n",
    "            print(eval(input_text_line))\n",
    "exit()\n",
    "```\n",
    "\n",
    "***Q2. SageMaker SDK じゃなくて Boto3 で Endpoint を作成できますか。***\n",
    "\n",
    "A. もちろんできます。以下のモデル作成、エンドポイントコンフィグ作成、エンドポイント作成の順で実現可能です。\n",
    "1. [create_model](https://boto3.amazonaws.com/v1/documentation/api/latest/reference/services/sagemaker.html#SageMaker.Client.create_model) でモデルと推論環境（推論コードやコンテナイメージ、環境変数の設定）をパッケージ化した Model を作成する\n",
    "2. [create_endpoint_config](https://boto3.amazonaws.com/v1/documentation/api/latest/reference/services/sagemaker.html#SageMaker.Client.create_endpoint_config) で使用する Model や推論に使うコンピューティングリソース（インスタンスタイプ、台数など）や負荷の配分を設定する\n",
    "3. [create_endpoint](https://boto3.amazonaws.com/v1/documentation/api/latest/reference/services/sagemaker.html#SageMaker.Client.create_endpoint) で EndpointConfig で設定した内容をデプロイする\n",
    " \n",
    "※ 推論エンドポイントに推論データをリクエストする環境 (AWS Lambda など) には入っていないことが多い（boto3でやることが多い）。また、推論エンドポイント立ち上げもパイプラインに組み込む際は SageMaker SDK を使わない環境もありえる。"
   ]
  },
  {
   "cell_type": "markdown",
   "id": "c5eb9aaa-50a2-4f72-aa6b-7894d0213613",
   "metadata": {},
   "source": [
    "# 【お持ち帰り用デザート（肉）】SageMaker Training と Inference の応用編\n",
    "以下の Git repo をご覧ください。\n",
    "- https://github.com/SeongHaedu/SageMaker-training-inference-handson"
   ]
  },
  {
   "cell_type": "code",
   "execution_count": null,
   "id": "0515f82d-73ee-43bf-8243-6b9a7cf492a7",
   "metadata": {},
   "outputs": [],
   "source": []
  }
 ],
 "metadata": {
  "instance_type": "ml.t3.medium",
  "kernelspec": {
   "display_name": "Python 3 (ipykernel)",
   "language": "python",
   "name": "python3"
  },
  "language_info": {
   "codemirror_mode": {
    "name": "ipython",
    "version": 3
   },
   "file_extension": ".py",
   "mimetype": "text/x-python",
   "name": "python",
   "nbconvert_exporter": "python",
   "pygments_lexer": "ipython3",
   "version": "3.11.7"
  }
 },
 "nbformat": 4,
 "nbformat_minor": 5
}
